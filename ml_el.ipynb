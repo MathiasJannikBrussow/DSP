{
  "nbformat": 4,
  "nbformat_minor": 0,
  "metadata": {
    "colab": {
      "provenance": [],
      "mount_file_id": "13M03DSff4LgVVGAyE6wWmfVQ-xoKNAGG",
      "authorship_tag": "ABX9TyPsg2LpCCTX+fNDWYpxkkw5",
      "include_colab_link": true
    },
    "kernelspec": {
      "name": "python3",
      "display_name": "Python 3"
    },
    "language_info": {
      "name": "python"
    }
  },
  "cells": [
    {
      "cell_type": "markdown",
      "metadata": {
        "id": "view-in-github",
        "colab_type": "text"
      },
      "source": [
        "<a href=\"https://colab.research.google.com/github/MathiasJannikBrussow/DSP/blob/main/ml_el.ipynb\" target=\"_parent\"><img src=\"https://colab.research.google.com/assets/colab-badge.svg\" alt=\"Open In Colab\"/></a>"
      ]
    },
    {
      "cell_type": "code",
      "execution_count": 21,
      "metadata": {
        "id": "npqoa_YNdvaN"
      },
      "outputs": [],
      "source": [
        "import pandas as pd\n",
        "import numpy as np\n",
        "import matplotlib.pyplot as plt\n",
        "from sklearn.model_selection import train_test_split\n",
        "from xgboost import XGBRegressor\n",
        "from sklearn.model_selection import GridSearchCV\n",
        "from sklearn.ensemble import RandomForestRegressor\n",
        "from sklearn.metrics import r2_score, mean_absolute_error, mean_squared_error\n",
        "from sklearn.tree import DecisionTreeRegressor"
      ]
    },
    {
      "cell_type": "code",
      "source": [
        "data = pd.read_csv('/content/drive/MyDrive/imputed_cardata.csv')"
      ],
      "metadata": {
        "id": "kfqeHzc6eb4L"
      },
      "execution_count": 8,
      "outputs": []
    },
    {
      "cell_type": "code",
      "source": [
        "data = pd.get_dummies(data, columns=['Brand', 'Model', 'Gear', 'Fuel_Type'])"
      ],
      "metadata": {
        "id": "bQaDRkfpenMm"
      },
      "execution_count": 9,
      "outputs": []
    },
    {
      "cell_type": "code",
      "source": [
        "column_names = data.columns.tolist()\n",
        "print(\"Column names:\", column_names)\n"
      ],
      "metadata": {
        "colab": {
          "base_uri": "https://localhost:8080/"
        },
        "id": "_2muh3jce_Iu",
        "outputId": "babc58a9-adef-4228-bac6-fe649955abea"
      },
      "execution_count": 10,
      "outputs": [
        {
          "output_type": "stream",
          "name": "stdout",
          "text": [
            "Column names: ['KM Driven', 'Km/L', 'Range (Electric)', 'Price', 'GPS', 'Trailer Hitch', '4WD', 'Parkingsensor', 'Cruise Control', 'Antispin', 'ESP', 'El-Sæder', 'Leather Interior', 'Glass Roof', 'Headup Display', 'Isofix', 'Klimaanlæg', 'Regnsensor', 'Soltag', 'Sports Package', 'Seatwarmer', 'Xenon Lights', 'Non-Smoker', 'One-Owner', 'Service OK', 'Nysynet', 'Demo Car', 'Partly Leather Interior', 'CVR/Engros', 'Full Leather', 'Adaptive Cruise Control', 'Link', 'Year', 'Horsepower', 'Brand_Audi', 'Brand_BMW', 'Brand_Citroën', 'Brand_Cupra', 'Brand_Dacia', 'Brand_Fiat', 'Brand_Ford', 'Brand_Honda', 'Brand_Hyundai', 'Brand_Jaguar', 'Brand_Kia', 'Brand_MG', 'Brand_Mazda', 'Brand_Mercedes', 'Brand_Mini', 'Brand_Nissan', 'Brand_Opel', 'Brand_Peugeot', 'Brand_Polestar', 'Brand_Renault', 'Brand_Seat', 'Brand_Skoda', 'Brand_Tesla', 'Brand_Toyota', 'Brand_VW', 'Brand_Volvo', 'Model_2', 'Model_500', 'Model_500e', 'Model_Ariya', 'Model_Astra', 'Model_Born', 'Model_C40', 'Model_Citigo-e', 'Model_Combo-e', 'Model_Cooper', 'Model_Corsa-e', 'Model_Doblò', 'Model_EQA250', 'Model_EQA250+', 'Model_EQA300', 'Model_EQA350', 'Model_EQB250', 'Model_EQB250+', 'Model_EQB300', 'Model_EQB350', 'Model_EQC400', 'Model_EQE350', 'Model_EV6', 'Model_EX30', 'Model_Enyaq', 'Model_GT', 'Model_I-Pace', 'Model_ID.', 'Model_ID3', 'Model_ID4', 'Model_ID5', 'Model_ID7', 'Model_Ioniq', 'Model_Kangoo', 'Model_Kona', 'Model_Leaf', 'Model_MG4', 'Model_MG5', 'Model_MX30', 'Model_Marvel', 'Model_Mii', 'Model_Model 3', 'Model_Model S', 'Model_Model X', 'Model_Model Y', 'Model_Mokka-e', 'Model_Mustang', 'Model_Mégane', 'Model_Niro', 'Model_Proace', 'Model_Q4', 'Model_Soul', 'Model_Spring', 'Model_Townstar', 'Model_Twingo', 'Model_Verso', 'Model_Vivaro-e', 'Model_XC40', 'Model_ZS', 'Model_Zafira', 'Model_Zoe', 'Model_bZ4X', 'Model_e', 'Model_e-2008', 'Model_e-208', 'Model_e-308', 'Model_e-C4', 'Model_e-Expert', 'Model_e-Golf', 'Model_e-Jumpy', 'Model_e-NV200', 'Model_e-Niro', 'Model_e-Scudo', 'Model_e-Vito', 'Model_e-tron', 'Model_e-up!', 'Model_e:Ny1', 'Model_i4', 'Model_iON', 'Model_iX', 'Model_iX1', 'Model_iX3', 'Gear_Automatgear', 'Gear_Manuelt gear', 'Fuel_Type_El']\n"
          ]
        }
      ]
    },
    {
      "cell_type": "code",
      "source": [
        "selected_features = ['KM Driven', 'Km/L', 'Range (Electric)', 'GPS', 'Trailer Hitch', '4WD', 'Parkingsensor', 'Cruise Control', 'Antispin', 'ESP', 'El-Sæder', 'Leather Interior', 'Glass Roof', 'Headup Display', 'Isofix', 'Klimaanlæg', 'Regnsensor', 'Soltag', 'Sports Package', 'Seatwarmer', 'Xenon Lights', 'Non-Smoker', 'One-Owner', 'Service OK', 'Nysynet', 'Demo Car', 'Partly Leather Interior', 'CVR/Engros', 'Full Leather', 'Adaptive Cruise Control', 'Year', 'Horsepower', 'Brand_Audi', 'Brand_BMW', 'Brand_Citroën', 'Brand_Cupra', 'Brand_Dacia', 'Brand_Fiat', 'Brand_Ford', 'Brand_Honda', 'Brand_Hyundai', 'Brand_Jaguar', 'Brand_Kia', 'Brand_MG', 'Brand_Mazda', 'Brand_Mercedes', 'Brand_Mini', 'Brand_Nissan', 'Brand_Opel', 'Brand_Peugeot', 'Brand_Polestar', 'Brand_Renault', 'Brand_Seat', 'Brand_Skoda', 'Brand_Tesla', 'Brand_Toyota', 'Brand_VW', 'Brand_Volvo', 'Model_2', 'Model_500', 'Model_500e', 'Model_Ariya', 'Model_Astra', 'Model_Born', 'Model_C40', 'Model_Citigo-e', 'Model_Combo-e', 'Model_Cooper', 'Model_Corsa-e', 'Model_Doblò', 'Model_EQA250', 'Model_EQA250+', 'Model_EQA300', 'Model_EQA350', 'Model_EQB250', 'Model_EQB250+', 'Model_EQB300', 'Model_EQB350', 'Model_EQC400', 'Model_EQE350', 'Model_EV6', 'Model_EX30', 'Model_Enyaq', 'Model_GT', 'Model_I-Pace', 'Model_ID.', 'Model_ID3', 'Model_ID4', 'Model_ID5', 'Model_ID7', 'Model_Ioniq', 'Model_Kangoo', 'Model_Kona', 'Model_Leaf', 'Model_MG4', 'Model_MG5', 'Model_MX30', 'Model_Marvel', 'Model_Mii', 'Model_Model 3', 'Model_Model S', 'Model_Model X', 'Model_Model Y', 'Model_Mokka-e', 'Model_Mustang', 'Model_Mégane', 'Model_Niro', 'Model_Proace', 'Model_Q4', 'Model_Soul', 'Model_Spring', 'Model_Townstar', 'Model_Twingo', 'Model_Verso', 'Model_Vivaro-e', 'Model_XC40', 'Model_ZS', 'Model_Zafira', 'Model_Zoe', 'Model_bZ4X', 'Model_e', 'Model_e-2008', 'Model_e-208', 'Model_e-308', 'Model_e-C4', 'Model_e-Expert', 'Model_e-Golf', 'Model_e-Jumpy', 'Model_e-NV200', 'Model_e-Niro', 'Model_e-Scudo', 'Model_e-Vito', 'Model_e-tron', 'Model_e-up!', 'Model_e:Ny1', 'Model_i4', 'Model_iON', 'Model_iX', 'Model_iX1', 'Model_iX3', 'Gear_Automatgear', 'Gear_Manuelt gear', 'Fuel_Type_El']\n",
        "\n",
        "\n",
        "X_train, X_test, y_train, y_test = train_test_split(data[selected_features], data['Price'], test_size=0.2, random_state=42)"
      ],
      "metadata": {
        "id": "hOV7syRIe6rF"
      },
      "execution_count": 17,
      "outputs": []
    },
    {
      "cell_type": "code",
      "source": [
        "# Baseline xgboosting without parameters\n",
        "xgb_model = XGBRegressor(n_estimators=600)\n",
        "\n",
        "xgb_model.fit(X_train, y_train)\n",
        "\n",
        "predictions = xgb_model.predict(X_test)\n",
        "\n",
        "mse = mean_squared_error(y_test, predictions)\n",
        "rmse = np.sqrt(mse)\n",
        "print(\"Root Mean Squared Error:\", rmse)"
      ],
      "metadata": {
        "colab": {
          "base_uri": "https://localhost:8080/"
        },
        "id": "-m6tUa48fGvN",
        "outputId": "79e3f291-fea1-450c-813d-4fdc375b4bec"
      },
      "execution_count": 14,
      "outputs": [
        {
          "output_type": "stream",
          "name": "stdout",
          "text": [
            "Root Mean Squared Error: 3503.4491389742907\n"
          ]
        }
      ]
    },
    {
      "cell_type": "code",
      "source": [
        "param_grid = {\n",
        "        'min_child_weight': [5, 10],\n",
        "        'gamma': [0],\n",
        "        'subsample': [0.8, 1.0],\n",
        "        'colsample_bytree': [1.0],\n",
        "        'max_depth': [10, 12, 15]\n",
        "        }\n",
        "\n",
        "# Initialize the XGBoost Regressor\n",
        "xgb_model = XGBRegressor(n_estimators=600)\n",
        "\n",
        "# Initialize GridSearchCV\n",
        "grid_search = GridSearchCV(estimator=xgb_model, param_grid=param_grid, cv=5, scoring='neg_root_mean_squared_error', verbose=10)\n",
        "\n",
        "# Perform grid search\n",
        "grid_search.fit(X_train, y_train)\n",
        "\n",
        "# Print the best parameters found\n",
        "print(\"Best Parameters:\", grid_search.best_params_)\n",
        "\n",
        "# Evaluate the best model on the test set\n",
        "best_model = grid_search.best_estimator_\n",
        "predictions = best_model.predict(X_test)\n",
        "rmse = np.sqrt(mean_squared_error(y_test, predictions))\n",
        "print(\"RMSE on Test Set:\", rmse)"
      ],
      "metadata": {
        "colab": {
          "base_uri": "https://localhost:8080/"
        },
        "id": "H5vCNCf1fnUL",
        "outputId": "63231468-c33b-4e82-d909-a81e703d8ac9"
      },
      "execution_count": 18,
      "outputs": [
        {
          "output_type": "stream",
          "name": "stdout",
          "text": [
            "Fitting 5 folds for each of 12 candidates, totalling 60 fits\n",
            "[CV 1/5; 1/12] START colsample_bytree=1.0, gamma=0, max_depth=10, min_child_weight=5, subsample=0.8\n",
            "[CV 1/5; 1/12] END colsample_bytree=1.0, gamma=0, max_depth=10, min_child_weight=5, subsample=0.8;, score=-34789.868 total time=   1.9s\n",
            "[CV 2/5; 1/12] START colsample_bytree=1.0, gamma=0, max_depth=10, min_child_weight=5, subsample=0.8\n",
            "[CV 2/5; 1/12] END colsample_bytree=1.0, gamma=0, max_depth=10, min_child_weight=5, subsample=0.8;, score=-32880.968 total time=   5.0s\n",
            "[CV 3/5; 1/12] START colsample_bytree=1.0, gamma=0, max_depth=10, min_child_weight=5, subsample=0.8\n",
            "[CV 3/5; 1/12] END colsample_bytree=1.0, gamma=0, max_depth=10, min_child_weight=5, subsample=0.8;, score=-38768.748 total time=   1.9s\n",
            "[CV 4/5; 1/12] START colsample_bytree=1.0, gamma=0, max_depth=10, min_child_weight=5, subsample=0.8\n",
            "[CV 4/5; 1/12] END colsample_bytree=1.0, gamma=0, max_depth=10, min_child_weight=5, subsample=0.8;, score=-51649.704 total time=   2.0s\n",
            "[CV 5/5; 1/12] START colsample_bytree=1.0, gamma=0, max_depth=10, min_child_weight=5, subsample=0.8\n",
            "[CV 5/5; 1/12] END colsample_bytree=1.0, gamma=0, max_depth=10, min_child_weight=5, subsample=0.8;, score=-33380.591 total time=   2.0s\n",
            "[CV 1/5; 2/12] START colsample_bytree=1.0, gamma=0, max_depth=10, min_child_weight=5, subsample=1.0\n",
            "[CV 1/5; 2/12] END colsample_bytree=1.0, gamma=0, max_depth=10, min_child_weight=5, subsample=1.0;, score=-30393.830 total time=   2.2s\n",
            "[CV 2/5; 2/12] START colsample_bytree=1.0, gamma=0, max_depth=10, min_child_weight=5, subsample=1.0\n",
            "[CV 2/5; 2/12] END colsample_bytree=1.0, gamma=0, max_depth=10, min_child_weight=5, subsample=1.0;, score=-33385.146 total time=   6.0s\n",
            "[CV 3/5; 2/12] START colsample_bytree=1.0, gamma=0, max_depth=10, min_child_weight=5, subsample=1.0\n",
            "[CV 3/5; 2/12] END colsample_bytree=1.0, gamma=0, max_depth=10, min_child_weight=5, subsample=1.0;, score=-37479.518 total time=   2.0s\n",
            "[CV 4/5; 2/12] START colsample_bytree=1.0, gamma=0, max_depth=10, min_child_weight=5, subsample=1.0\n",
            "[CV 4/5; 2/12] END colsample_bytree=1.0, gamma=0, max_depth=10, min_child_weight=5, subsample=1.0;, score=-53145.493 total time=   2.0s\n",
            "[CV 5/5; 2/12] START colsample_bytree=1.0, gamma=0, max_depth=10, min_child_weight=5, subsample=1.0\n",
            "[CV 5/5; 2/12] END colsample_bytree=1.0, gamma=0, max_depth=10, min_child_weight=5, subsample=1.0;, score=-35092.175 total time=   2.0s\n",
            "[CV 1/5; 3/12] START colsample_bytree=1.0, gamma=0, max_depth=10, min_child_weight=10, subsample=0.8\n",
            "[CV 1/5; 3/12] END colsample_bytree=1.0, gamma=0, max_depth=10, min_child_weight=10, subsample=0.8;, score=-33452.621 total time=   1.7s\n",
            "[CV 2/5; 3/12] START colsample_bytree=1.0, gamma=0, max_depth=10, min_child_weight=10, subsample=0.8\n",
            "[CV 2/5; 3/12] END colsample_bytree=1.0, gamma=0, max_depth=10, min_child_weight=10, subsample=0.8;, score=-31442.455 total time=   1.8s\n",
            "[CV 3/5; 3/12] START colsample_bytree=1.0, gamma=0, max_depth=10, min_child_weight=10, subsample=0.8\n",
            "[CV 3/5; 3/12] END colsample_bytree=1.0, gamma=0, max_depth=10, min_child_weight=10, subsample=0.8;, score=-37704.113 total time=   4.8s\n",
            "[CV 4/5; 3/12] START colsample_bytree=1.0, gamma=0, max_depth=10, min_child_weight=10, subsample=0.8\n",
            "[CV 4/5; 3/12] END colsample_bytree=1.0, gamma=0, max_depth=10, min_child_weight=10, subsample=0.8;, score=-50817.162 total time=   1.9s\n",
            "[CV 5/5; 3/12] START colsample_bytree=1.0, gamma=0, max_depth=10, min_child_weight=10, subsample=0.8\n",
            "[CV 5/5; 3/12] END colsample_bytree=1.0, gamma=0, max_depth=10, min_child_weight=10, subsample=0.8;, score=-34294.502 total time=   1.7s\n",
            "[CV 1/5; 4/12] START colsample_bytree=1.0, gamma=0, max_depth=10, min_child_weight=10, subsample=1.0\n",
            "[CV 1/5; 4/12] END colsample_bytree=1.0, gamma=0, max_depth=10, min_child_weight=10, subsample=1.0;, score=-31238.732 total time=   1.8s\n",
            "[CV 2/5; 4/12] START colsample_bytree=1.0, gamma=0, max_depth=10, min_child_weight=10, subsample=1.0\n",
            "[CV 2/5; 4/12] END colsample_bytree=1.0, gamma=0, max_depth=10, min_child_weight=10, subsample=1.0;, score=-33612.443 total time=   1.8s\n",
            "[CV 3/5; 4/12] START colsample_bytree=1.0, gamma=0, max_depth=10, min_child_weight=10, subsample=1.0\n",
            "[CV 3/5; 4/12] END colsample_bytree=1.0, gamma=0, max_depth=10, min_child_weight=10, subsample=1.0;, score=-35896.560 total time=   3.0s\n",
            "[CV 4/5; 4/12] START colsample_bytree=1.0, gamma=0, max_depth=10, min_child_weight=10, subsample=1.0\n",
            "[CV 4/5; 4/12] END colsample_bytree=1.0, gamma=0, max_depth=10, min_child_weight=10, subsample=1.0;, score=-51471.914 total time=   3.5s\n",
            "[CV 5/5; 4/12] START colsample_bytree=1.0, gamma=0, max_depth=10, min_child_weight=10, subsample=1.0\n",
            "[CV 5/5; 4/12] END colsample_bytree=1.0, gamma=0, max_depth=10, min_child_weight=10, subsample=1.0;, score=-35495.290 total time=   1.6s\n",
            "[CV 1/5; 5/12] START colsample_bytree=1.0, gamma=0, max_depth=12, min_child_weight=5, subsample=0.8\n",
            "[CV 1/5; 5/12] END colsample_bytree=1.0, gamma=0, max_depth=12, min_child_weight=5, subsample=0.8;, score=-32600.031 total time=   2.2s\n",
            "[CV 2/5; 5/12] START colsample_bytree=1.0, gamma=0, max_depth=12, min_child_weight=5, subsample=0.8\n",
            "[CV 2/5; 5/12] END colsample_bytree=1.0, gamma=0, max_depth=12, min_child_weight=5, subsample=0.8;, score=-32371.391 total time=   2.3s\n",
            "[CV 3/5; 5/12] START colsample_bytree=1.0, gamma=0, max_depth=12, min_child_weight=5, subsample=0.8\n",
            "[CV 3/5; 5/12] END colsample_bytree=1.0, gamma=0, max_depth=12, min_child_weight=5, subsample=0.8;, score=-37105.443 total time=   2.1s\n",
            "[CV 4/5; 5/12] START colsample_bytree=1.0, gamma=0, max_depth=12, min_child_weight=5, subsample=0.8\n",
            "[CV 4/5; 5/12] END colsample_bytree=1.0, gamma=0, max_depth=12, min_child_weight=5, subsample=0.8;, score=-51267.335 total time=   5.4s\n",
            "[CV 5/5; 5/12] START colsample_bytree=1.0, gamma=0, max_depth=12, min_child_weight=5, subsample=0.8\n",
            "[CV 5/5; 5/12] END colsample_bytree=1.0, gamma=0, max_depth=12, min_child_weight=5, subsample=0.8;, score=-35012.080 total time=   2.2s\n",
            "[CV 1/5; 6/12] START colsample_bytree=1.0, gamma=0, max_depth=12, min_child_weight=5, subsample=1.0\n",
            "[CV 1/5; 6/12] END colsample_bytree=1.0, gamma=0, max_depth=12, min_child_weight=5, subsample=1.0;, score=-32084.263 total time=   2.6s\n",
            "[CV 2/5; 6/12] START colsample_bytree=1.0, gamma=0, max_depth=12, min_child_weight=5, subsample=1.0\n",
            "[CV 2/5; 6/12] END colsample_bytree=1.0, gamma=0, max_depth=12, min_child_weight=5, subsample=1.0;, score=-33420.780 total time=   2.4s\n",
            "[CV 3/5; 6/12] START colsample_bytree=1.0, gamma=0, max_depth=12, min_child_weight=5, subsample=1.0\n",
            "[CV 3/5; 6/12] END colsample_bytree=1.0, gamma=0, max_depth=12, min_child_weight=5, subsample=1.0;, score=-37129.393 total time=   6.0s\n",
            "[CV 4/5; 6/12] START colsample_bytree=1.0, gamma=0, max_depth=12, min_child_weight=5, subsample=1.0\n",
            "[CV 4/5; 6/12] END colsample_bytree=1.0, gamma=0, max_depth=12, min_child_weight=5, subsample=1.0;, score=-52063.028 total time=   2.5s\n",
            "[CV 5/5; 6/12] START colsample_bytree=1.0, gamma=0, max_depth=12, min_child_weight=5, subsample=1.0\n",
            "[CV 5/5; 6/12] END colsample_bytree=1.0, gamma=0, max_depth=12, min_child_weight=5, subsample=1.0;, score=-37039.970 total time=   2.4s\n",
            "[CV 1/5; 7/12] START colsample_bytree=1.0, gamma=0, max_depth=12, min_child_weight=10, subsample=0.8\n",
            "[CV 1/5; 7/12] END colsample_bytree=1.0, gamma=0, max_depth=12, min_child_weight=10, subsample=0.8;, score=-33935.848 total time=   2.5s\n",
            "[CV 2/5; 7/12] START colsample_bytree=1.0, gamma=0, max_depth=12, min_child_weight=10, subsample=0.8\n",
            "[CV 2/5; 7/12] END colsample_bytree=1.0, gamma=0, max_depth=12, min_child_weight=10, subsample=0.8;, score=-32220.569 total time=   5.4s\n",
            "[CV 3/5; 7/12] START colsample_bytree=1.0, gamma=0, max_depth=12, min_child_weight=10, subsample=0.8\n",
            "[CV 3/5; 7/12] END colsample_bytree=1.0, gamma=0, max_depth=12, min_child_weight=10, subsample=0.8;, score=-38224.243 total time=   1.9s\n",
            "[CV 4/5; 7/12] START colsample_bytree=1.0, gamma=0, max_depth=12, min_child_weight=10, subsample=0.8\n",
            "[CV 4/5; 7/12] END colsample_bytree=1.0, gamma=0, max_depth=12, min_child_weight=10, subsample=0.8;, score=-50232.108 total time=   2.1s\n",
            "[CV 5/5; 7/12] START colsample_bytree=1.0, gamma=0, max_depth=12, min_child_weight=10, subsample=0.8\n",
            "[CV 5/5; 7/12] END colsample_bytree=1.0, gamma=0, max_depth=12, min_child_weight=10, subsample=0.8;, score=-32804.279 total time=   2.2s\n",
            "[CV 1/5; 8/12] START colsample_bytree=1.0, gamma=0, max_depth=12, min_child_weight=10, subsample=1.0\n",
            "[CV 1/5; 8/12] END colsample_bytree=1.0, gamma=0, max_depth=12, min_child_weight=10, subsample=1.0;, score=-29983.910 total time=   2.2s\n",
            "[CV 2/5; 8/12] START colsample_bytree=1.0, gamma=0, max_depth=12, min_child_weight=10, subsample=1.0\n",
            "[CV 2/5; 8/12] END colsample_bytree=1.0, gamma=0, max_depth=12, min_child_weight=10, subsample=1.0;, score=-32860.392 total time=   5.2s\n",
            "[CV 3/5; 8/12] START colsample_bytree=1.0, gamma=0, max_depth=12, min_child_weight=10, subsample=1.0\n",
            "[CV 3/5; 8/12] END colsample_bytree=1.0, gamma=0, max_depth=12, min_child_weight=10, subsample=1.0;, score=-38552.489 total time=   2.0s\n",
            "[CV 4/5; 8/12] START colsample_bytree=1.0, gamma=0, max_depth=12, min_child_weight=10, subsample=1.0\n",
            "[CV 4/5; 8/12] END colsample_bytree=1.0, gamma=0, max_depth=12, min_child_weight=10, subsample=1.0;, score=-49907.658 total time=   2.1s\n",
            "[CV 5/5; 8/12] START colsample_bytree=1.0, gamma=0, max_depth=12, min_child_weight=10, subsample=1.0\n",
            "[CV 5/5; 8/12] END colsample_bytree=1.0, gamma=0, max_depth=12, min_child_weight=10, subsample=1.0;, score=-35607.351 total time=   2.0s\n",
            "[CV 1/5; 9/12] START colsample_bytree=1.0, gamma=0, max_depth=15, min_child_weight=5, subsample=0.8\n",
            "[CV 1/5; 9/12] END colsample_bytree=1.0, gamma=0, max_depth=15, min_child_weight=5, subsample=0.8;, score=-32068.024 total time=   2.7s\n",
            "[CV 2/5; 9/12] START colsample_bytree=1.0, gamma=0, max_depth=15, min_child_weight=5, subsample=0.8\n",
            "[CV 2/5; 9/12] END colsample_bytree=1.0, gamma=0, max_depth=15, min_child_weight=5, subsample=0.8;, score=-33319.219 total time=   5.8s\n",
            "[CV 3/5; 9/12] START colsample_bytree=1.0, gamma=0, max_depth=15, min_child_weight=5, subsample=0.8\n",
            "[CV 3/5; 9/12] END colsample_bytree=1.0, gamma=0, max_depth=15, min_child_weight=5, subsample=0.8;, score=-37359.028 total time=   2.5s\n",
            "[CV 4/5; 9/12] START colsample_bytree=1.0, gamma=0, max_depth=15, min_child_weight=5, subsample=0.8\n",
            "[CV 4/5; 9/12] END colsample_bytree=1.0, gamma=0, max_depth=15, min_child_weight=5, subsample=0.8;, score=-51036.374 total time=   2.8s\n",
            "[CV 5/5; 9/12] START colsample_bytree=1.0, gamma=0, max_depth=15, min_child_weight=5, subsample=0.8\n",
            "[CV 5/5; 9/12] END colsample_bytree=1.0, gamma=0, max_depth=15, min_child_weight=5, subsample=0.8;, score=-36322.735 total time=   2.6s\n",
            "[CV 1/5; 10/12] START colsample_bytree=1.0, gamma=0, max_depth=15, min_child_weight=5, subsample=1.0\n",
            "[CV 1/5; 10/12] END colsample_bytree=1.0, gamma=0, max_depth=15, min_child_weight=5, subsample=1.0;, score=-31185.353 total time=   6.2s\n",
            "[CV 2/5; 10/12] START colsample_bytree=1.0, gamma=0, max_depth=15, min_child_weight=5, subsample=1.0\n",
            "[CV 2/5; 10/12] END colsample_bytree=1.0, gamma=0, max_depth=15, min_child_weight=5, subsample=1.0;, score=-35228.298 total time=   2.8s\n",
            "[CV 3/5; 10/12] START colsample_bytree=1.0, gamma=0, max_depth=15, min_child_weight=5, subsample=1.0\n",
            "[CV 3/5; 10/12] END colsample_bytree=1.0, gamma=0, max_depth=15, min_child_weight=5, subsample=1.0;, score=-37844.238 total time=   3.0s\n",
            "[CV 4/5; 10/12] START colsample_bytree=1.0, gamma=0, max_depth=15, min_child_weight=5, subsample=1.0\n",
            "[CV 4/5; 10/12] END colsample_bytree=1.0, gamma=0, max_depth=15, min_child_weight=5, subsample=1.0;, score=-52993.944 total time=   6.3s\n",
            "[CV 5/5; 10/12] START colsample_bytree=1.0, gamma=0, max_depth=15, min_child_weight=5, subsample=1.0\n",
            "[CV 5/5; 10/12] END colsample_bytree=1.0, gamma=0, max_depth=15, min_child_weight=5, subsample=1.0;, score=-36897.217 total time=   6.0s\n",
            "[CV 1/5; 11/12] START colsample_bytree=1.0, gamma=0, max_depth=15, min_child_weight=10, subsample=0.8\n",
            "[CV 1/5; 11/12] END colsample_bytree=1.0, gamma=0, max_depth=15, min_child_weight=10, subsample=0.8;, score=-33008.532 total time=   2.2s\n",
            "[CV 2/5; 11/12] START colsample_bytree=1.0, gamma=0, max_depth=15, min_child_weight=10, subsample=0.8\n",
            "[CV 2/5; 11/12] END colsample_bytree=1.0, gamma=0, max_depth=15, min_child_weight=10, subsample=0.8;, score=-32601.094 total time=   5.5s\n",
            "[CV 3/5; 11/12] START colsample_bytree=1.0, gamma=0, max_depth=15, min_child_weight=10, subsample=0.8\n",
            "[CV 3/5; 11/12] END colsample_bytree=1.0, gamma=0, max_depth=15, min_child_weight=10, subsample=0.8;, score=-37192.027 total time=   2.3s\n",
            "[CV 4/5; 11/12] START colsample_bytree=1.0, gamma=0, max_depth=15, min_child_weight=10, subsample=0.8\n",
            "[CV 4/5; 11/12] END colsample_bytree=1.0, gamma=0, max_depth=15, min_child_weight=10, subsample=0.8;, score=-51420.828 total time=   2.3s\n",
            "[CV 5/5; 11/12] START colsample_bytree=1.0, gamma=0, max_depth=15, min_child_weight=10, subsample=0.8\n",
            "[CV 5/5; 11/12] END colsample_bytree=1.0, gamma=0, max_depth=15, min_child_weight=10, subsample=0.8;, score=-33806.438 total time=   2.2s\n",
            "[CV 1/5; 12/12] START colsample_bytree=1.0, gamma=0, max_depth=15, min_child_weight=10, subsample=1.0\n",
            "[CV 1/5; 12/12] END colsample_bytree=1.0, gamma=0, max_depth=15, min_child_weight=10, subsample=1.0;, score=-30895.658 total time=   5.6s\n",
            "[CV 2/5; 12/12] START colsample_bytree=1.0, gamma=0, max_depth=15, min_child_weight=10, subsample=1.0\n",
            "[CV 2/5; 12/12] END colsample_bytree=1.0, gamma=0, max_depth=15, min_child_weight=10, subsample=1.0;, score=-33071.594 total time=   2.4s\n",
            "[CV 3/5; 12/12] START colsample_bytree=1.0, gamma=0, max_depth=15, min_child_weight=10, subsample=1.0\n",
            "[CV 3/5; 12/12] END colsample_bytree=1.0, gamma=0, max_depth=15, min_child_weight=10, subsample=1.0;, score=-38697.257 total time=   2.3s\n",
            "[CV 4/5; 12/12] START colsample_bytree=1.0, gamma=0, max_depth=15, min_child_weight=10, subsample=1.0\n",
            "[CV 4/5; 12/12] END colsample_bytree=1.0, gamma=0, max_depth=15, min_child_weight=10, subsample=1.0;, score=-50140.033 total time=   2.4s\n",
            "[CV 5/5; 12/12] START colsample_bytree=1.0, gamma=0, max_depth=15, min_child_weight=10, subsample=1.0\n",
            "[CV 5/5; 12/12] END colsample_bytree=1.0, gamma=0, max_depth=15, min_child_weight=10, subsample=1.0;, score=-33600.473 total time=   2.4s\n",
            "Best Parameters: {'colsample_bytree': 1.0, 'gamma': 0, 'max_depth': 15, 'min_child_weight': 10, 'subsample': 1.0}\n",
            "RMSE on Test Set: 33186.76515590806\n"
          ]
        }
      ]
    },
    {
      "cell_type": "code",
      "source": [
        "# Get feature importances\n",
        "feature_importances = best_model.feature_importances_\n",
        "\n",
        "# Create a DataFrame to store feature importances along with their corresponding column names\n",
        "feature_importance_df = pd.DataFrame({'Feature': X_train.columns, 'Importance': feature_importances})\n",
        "\n",
        "# Sort the DataFrame by importance in descending order\n",
        "feature_importance_df = feature_importance_df.sort_values(by='Importance', ascending=False)\n",
        "\n",
        "# Print the top N important features\n",
        "N = 25  # Change this value to display more or fewer top features\n",
        "print(\"Top\", N, \"important features:\")\n",
        "print(feature_importance_df.head(N))\n"
      ],
      "metadata": {
        "colab": {
          "base_uri": "https://localhost:8080/"
        },
        "id": "ZzuL_nTcf-oU",
        "outputId": "eb5823cf-b48f-4a80-ad2a-5be5afe5f526"
      },
      "execution_count": 19,
      "outputs": [
        {
          "output_type": "stream",
          "name": "stdout",
          "text": [
            "Top 25 important features:\n",
            "              Feature  Importance\n",
            "32         Brand_Audi    0.116104\n",
            "92         Model_Kona    0.099218\n",
            "35        Brand_Cupra    0.072482\n",
            "85          Model_ID.    0.070222\n",
            "43           Brand_MG    0.053807\n",
            "50     Brand_Polestar    0.053670\n",
            "99      Model_Model 3    0.050771\n",
            "118         Model_Zoe    0.044517\n",
            "1                Km/L    0.034943\n",
            "31         Horsepower    0.025566\n",
            "2    Range (Electric)    0.025402\n",
            "33          Brand_BMW    0.021528\n",
            "45     Brand_Mercedes    0.019862\n",
            "18     Sports Package    0.019258\n",
            "53        Brand_Skoda    0.017493\n",
            "54        Brand_Tesla    0.015537\n",
            "100     Model_Model S    0.013660\n",
            "38         Brand_Ford    0.012187\n",
            "57        Brand_Volvo    0.012133\n",
            "86          Model_ID3    0.011417\n",
            "80          Model_EV6    0.011278\n",
            "82        Model_Enyaq    0.010793\n",
            "87          Model_ID4    0.010589\n",
            "51      Brand_Renault    0.008714\n",
            "12         Glass Roof    0.007177\n"
          ]
        }
      ]
    },
    {
      "cell_type": "code",
      "source": [
        "predictions = best_model.predict(X_test)\n",
        "\n",
        "# Calculate R-squared\n",
        "r_squared = r2_score(y_test, predictions)\n",
        "\n",
        "# Calculate Mean Absolute Error\n",
        "mae = mean_absolute_error(y_test, predictions)\n",
        "\n",
        "# Calculate Mean Squared Error\n",
        "mse = mean_squared_error(y_test, predictions)\n",
        "\n",
        "# Calculate Root Mean Squared Error\n",
        "rmse = np.sqrt(mse)\n",
        "\n",
        "# Print the evaluation metrics\n",
        "print(\"R-squared:\", r_squared)\n",
        "print(\"Mean Absolute Error:\", mae)\n",
        "print(\"Mean Squared Error:\", mse)\n",
        "print(\"Root Mean Squared Error:\", rmse)"
      ],
      "metadata": {
        "colab": {
          "base_uri": "https://localhost:8080/"
        },
        "id": "8g1xCVmHgOqV",
        "outputId": "81796d96-9530-4f4f-ff63-49abb6ee6c0c"
      },
      "execution_count": 24,
      "outputs": [
        {
          "output_type": "stream",
          "name": "stdout",
          "text": [
            "R-squared: 0.8945191839586044\n",
            "Mean Absolute Error: 22061.337667603806\n",
            "Mean Squared Error: 1101361381.5133934\n",
            "Root Mean Squared Error: 33186.76515590806\n"
          ]
        }
      ]
    }
  ]
}