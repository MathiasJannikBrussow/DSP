{
  "nbformat": 4,
  "nbformat_minor": 0,
  "metadata": {
    "colab": {
      "provenance": [],
      "machine_shape": "hm",
      "mount_file_id": "1FaURT9H0n2Rn4M0QekEfoxA4Jhu23LQM",
      "authorship_tag": "ABX9TyN6zyluSS5ORMyGXqT8Jd7v",
      "include_colab_link": true
    },
    "kernelspec": {
      "name": "python3",
      "display_name": "Python 3"
    },
    "language_info": {
      "name": "python"
    }
  },
  "cells": [
    {
      "cell_type": "markdown",
      "metadata": {
        "id": "view-in-github",
        "colab_type": "text"
      },
      "source": [
        "<a href=\"https://colab.research.google.com/github/MathiasJannikBrussow/DSP/blob/main/ml_bdh.ipynb\" target=\"_parent\"><img src=\"https://colab.research.google.com/assets/colab-badge.svg\" alt=\"Open In Colab\"/></a>"
      ]
    },
    {
      "cell_type": "code",
      "execution_count": 3,
      "metadata": {
        "id": "pZTLQ3g3_Y7F"
      },
      "outputs": [],
      "source": [
        "import pandas as pd\n",
        "import numpy as np\n",
        "import matplotlib.pyplot as plt\n",
        "from sklearn.model_selection import train_test_split\n",
        "from sklearn.metrics import mean_squared_error\n",
        "from xgboost import XGBRegressor\n",
        "from sklearn.model_selection import GridSearchCV\n",
        "from sklearn.ensemble import RandomForestRegressor"
      ]
    },
    {
      "cell_type": "code",
      "source": [
        "data = pd.read_csv('/content/drive/MyDrive/fuel_data_bdh.csv')"
      ],
      "metadata": {
        "id": "ESEPK1HX_qft"
      },
      "execution_count": 5,
      "outputs": []
    },
    {
      "cell_type": "code",
      "source": [
        "data.drop(columns=['Motor Specs'], inplace=True)\n",
        "columns_to_replace = ['GPS', 'Trailer Hitch', '4WD', 'Parkingsensor', 'Cruise Control', 'Antispin', 'ESP', 'El-Sæder', 'Leather Interior', 'Glass Roof', 'Headup Display', 'Isofix', 'Klimaanlæg', 'Regnsensor', 'Soltag', 'Sports Package', 'Seatwarmer', 'Xenon Lights', 'Non-Smoker', 'One-Owner', 'Service OK', 'Nysynet', 'Demo Car', 'Partly Leather Interior', 'CVR/Engros', 'Full Leather', 'Adaptive Cruise Control']  # Specify the columns you want to replace values in\n",
        "data[columns_to_replace] = data[columns_to_replace].replace({'Yes': 1, 'No': 0})\n"
      ],
      "metadata": {
        "id": "Wsy5HmKO_r-D"
      },
      "execution_count": 6,
      "outputs": []
    },
    {
      "cell_type": "code",
      "source": [
        "selected_features = ['Year', 'Horsepower', 'KM Driven', 'GPS', 'Trailer Hitch', '4WD', 'Parkingsensor', 'Cruise Control', 'Antispin', 'ESP', 'El-Sæder', 'Leather Interior', 'Glass Roof', 'Headup Display', 'Isofix', 'Klimaanlæg', 'Regnsensor', 'Soltag', 'Sports Package', 'Seatwarmer', 'Xenon Lights', 'Non-Smoker', 'One-Owner', 'Service OK', 'Nysynet', 'Demo Car', 'Partly Leather Interior', 'CVR/Engros', 'Full Leather', 'Adaptive Cruise Control', 'Brand_Alfa', 'Brand_Audi', 'Brand_BMW', 'Brand_Chevrolet', 'Brand_Citroën',\n",
        "    'Brand_Cupra', 'Brand_Dacia', 'Brand_Fiat', 'Brand_Ford', 'Brand_Honda', 'Brand_Hyundai', 'Brand_Jaguar', 'Brand_Kia', 'Brand_MG', 'Brand_Mazda', 'Brand_Mercedes', 'Brand_Mini', 'Brand_Mitsubishi', 'Brand_Nissan', 'Brand_Opel',\n",
        "    'Brand_Peugeot', 'Brand_Porsche', 'Brand_Renault', 'Brand_Seat', 'Brand_Skoda','Brand_Suzuki', 'Brand_Toyota', 'Brand_VW', 'Brand_Volvo','Gear_Automatgear', 'Gear_Manuelt gear', 'Fuel_Type_Benzin', 'Fuel_Type_Diesel', 'Fuel_Type_Hybrid',\n",
        "    'Model_100', 'Model_1007', 'Model_106', 'Model_107', 'Model_108', 'Model_116', 'Model_118', 'Model_120', 'Model_124', 'Model_125', 'Model_126', 'Model_128', 'Model_190', 'Model_2', 'Model_200', 'Model_2008', 'Model_204', 'Model_205', 'Model_206', 'Model_206+', 'Model_207', 'Model_208', 'Model_216', 'Model_218', 'Model_220', 'Model_225', 'Model_228', 'Model_230', 'Model_240', 'Model_245', 'Model_262', 'Model_280', 'Model_2CV', 'Model_3', 'Model_300', 'Model_3000', 'Model_3008', 'Model_306', 'Model_307', 'Model_308', 'Model_309', 'Model_316', 'Model_318', 'Model_320', 'Model_320e', 'Model_323', 'Model_325', 'Model_328', 'Model_330', 'Model_330e', 'Model_335', 'Model_350Z', 'Model_404', 'Model_405', 'Model_406', 'Model_407', 'Model_408', 'Model_418', 'Model_420', 'Model_428', 'Model_430', 'Model_435', 'Model_5', 'Model_500', 'Model_5008', 'Model_500C', 'Model_500L', 'Model_500S', 'Model_500X', 'Model_501', 'Model_504', 'Model_508', 'Model_520', 'Model_523', 'Model_525', 'Model_528', 'Model_530', 'Model_535', 'Model_540', 'Model_550', 'Model_560', 'Model_6', 'Model_605', 'Model_626', 'Model_635', 'Model_650', 'Model_700', 'Model_730', 'Model_735', 'Model_740', 'Model_750', 'Model_760', 'Model_780', 'Model_80', 'Model_840', 'Model_850', 'Model_911', 'Model_928', 'Model_940', 'Model_944', 'Model_960', 'Model_964', 'Model_968', 'Model_993', 'Model_A1', 'Model_A160', 'Model_A180', 'Model_A200', 'Model_A220', 'Model_A250', 'Model_A3', 'Model_A35', 'Model_A4', 'Model_A45', 'Model_A5', 'Model_A6', 'Model_A7', 'Model_A8', 'Model_AMG', 'Model_ASX', 'Model_AX', 'Model_Accent', 'Model_Accord', 'Model_Across', 'Model_Adam', 'Model_Agila', 'Model_Almera', 'Model_Altea', 'Model_Alto', 'Model_Amarok', 'Model_Antara', 'Model_Arkana', 'Model_Arona', 'Model_Arteon', 'Model_Ascona', 'Model_Astra', 'Model_Ateca', 'Model_Auris', 'Model_Austral', 'Model_Avalanche', 'Model_Avensis', 'Model_Aveo', 'Model_Aygo', 'Model_B', 'Model_B-MAX', 'Model_B180', 'Model_B200', 'Model_B220', 'Model_B250', 'Model_B250e', 'Model_BX', 'Model_Baleno', 'Model_Barchetta', 'Model_Bayon', 'Model_Beetle', 'Model_Berlingo', 'Model_Bipper', 'Model_Boxer', 'Model_Boxster', 'Model_Bravo', 'Model_C-HR', 'Model_C-MAX', 'Model_C1', 'Model_C1500', 'Model_C180', 'Model_C2', 'Model_C200', 'Model_C220', 'Model_C250', 'Model_C280', 'Model_C3', 'Model_C30', 'Model_C300', 'Model_C300e', 'Model_C320', 'Model_C350e', 'Model_C4', 'Model_C400', 'Model_C43', 'Model_C5', 'Model_C63', 'Model_C70', 'Model_C8', 'Model_CC', 'Model_CL500', 'Model_CLA180', 'Model_CLA200', 'Model_CLA220', 'Model_CLA250', 'Model_CLA250e', 'Model_CLK200', 'Model_CLK220', 'Model_CLK240', 'Model_CLK320', 'Model_CLK500', 'Model_CLK55', 'Model_CLS220', 'Model_CLS250', 'Model_CLS320', 'Model_CLS350', 'Model_CLS500', 'Model_CLS63', 'Model_CR-V', 'Model_CR-X', 'Model_CX', 'Model_CX-3', 'Model_CX-30', 'Model_CX-5', 'Model_CX-60', 'Model_Cabriolet', 'Model_Cabstar', 'Model_Caddy', 'Model_Calibra', 'Model_California', 'Model_Camaro', 'Model_Camry', 'Model_Capri', 'Model_Caprice', 'Model_Captur', 'Model_Caravelle', 'Model_Carens', 'Model_Cargo', 'Model_Carisma', 'Model_Cascada', 'Model_Cayenne', 'Model_Ceed', 'Model_Celerio', 'Model_Celica', 'Model_Chevelle', 'Model_Cinquecento', 'Model_Citan', 'Model_Citigo', 'Model_Civic', 'Model_Clio', 'Model_Clubman', 'Model_Colt', 'Model_Combo', 'Model_Consul', 'Model_Cooper', 'Model_Corolla', 'Model_Corsa', 'Model_Cortina', 'Model_Corvette', 'Model_Cougar', 'Model_Countryman', 'Model_Coupé', 'Model_Crafter', 'Model_Croma', 'Model_Crossland', 'Model_Cruze', 'Model_DS3', 'Model_DS4', 'Model_Doblò', 'Model_Dokker', 'Model_Ducato', 'Model_Duster', 'Model_Dyna', 'Model_E-Pace', 'Model_E200', 'Model_E220', 'Model_E230', 'Model_E250', 'Model_E280', 'Model_E300', 'Model_E320', 'Model_E350', 'Model_E400', 'Model_E430', 'Model_E500', 'Model_E63', 'Model_EHS', 'Model_Eclipse', 'Model_Ecosport', 'Model_Edge', 'Model_Elantra', 'Model_Escort', 'Model_Espace', 'Model_Expert', 'Model_Express', 'Model_F', 'Model_F-150', 'Model_F-Pace', 'Model_FR-V', 'Model_Fabia', 'Model_Felicia', 'Model_Fiesta', 'Model_Figaro', 'Model_Fiorino', 'Model_Focus', 'Model_Formentor', 'Model_Fox', 'Model_Fullback', 'Model_Fusion', 'Model_G', 'Model_G350', 'Model_G500', 'Model_GL320', 'Model_GLA180', 'Model_GLA200', 'Model_GLA220', 'Model_GLA250', 'Model_GLB200', 'Model_GLB220', 'Model_GLC220', 'Model_GLC250', 'Model_GLC300', 'Model_GLC300e', 'Model_GLC350', 'Model_GLC43', 'Model_GLC63', 'Model_GLE350', 'Model_GLE350e', 'Model_GLE53', 'Model_GLK220', 'Model_GLK350', 'Model_Galant', 'Model_Galaxy', 'Model_Getz', 'Model_Golf', 'Model_Grand', 'Model_Grande', 'Model_Grandis', 'Model_Grandland', 'Model_H', 'Model_H-1', 'Model_HR-V', 'Model_HiAce', 'Model_HiLux', 'Model_Ibiza', 'Model_Ignis', 'Model_Insignia', 'Model_Ioniq', 'Model_Jazz', 'Model_Jimny', 'Model_Jogger', 'Model_Juke', 'Model_Jumper', 'Model_Jumpy', 'Model_Ka', 'Model_Kadett', 'Model_Kadjar', 'Model_Kamiq', 'Model_Kangoo', 'Model_Karl', 'Model_Karmann', 'Model_Karoq', 'Model_King', 'Model_Kodiaq', 'Model_Kona', 'Model_Kuga', 'Model_L200', 'Model_Lacetti', 'Model_Laguna', 'Model_Lancer', 'Model_Land', 'Model_Legend', 'Model_Leon', 'Model_Liana', 'Model_Lodgy', 'Model_Logan', 'Model_Lupo', 'Model_M135', 'Model_M140', 'Model_M3', 'Model_M5', 'Model_M550', 'Model_M760', 'Model_ML270', 'Model_ML320', 'Model_ML350', 'Model_ML500', 'Model_MX3', 'Model_MX30', 'Model_MX5', 'Model_Macan', 'Model_Master', 'Model_Matiz', 'Model_Matrix', 'Model_Maverick', 'Model_Maxima', 'Model_Meriva', 'Model_Micra', 'Model_Mii', 'Model_Mokka', 'Model_Mondeo', 'Model_Movano', 'Model_Multivan', 'Model_Mustang', 'Model_Mégane', 'Model_NV200', 'Model_NV300', 'Model_NV400', 'Model_Navara', 'Model_Niro', 'Model_Note', 'Model_Nubira', 'Model_ONE', 'Model_Octavia', 'Model_One', 'Model_Opirus', 'Model_Optima', 'Model_Orlando', 'Model_Outlander', 'Model_Pajero', 'Model_Panda', 'Model_Partner', 'Model_Passat', 'Model_Phaeton', 'Model_Picanto', 'Model_Pixo', 'Model_Polo', 'Model_Prelude', 'Model_Primastar', 'Model_Primera', 'Model_Prius', 'Model_Prius+', 'Model_ProCeed', 'Model_Proace', 'Model_Pulsar', 'Model_Puma', 'Model_Punto', 'Model_Q2', 'Model_Q3', 'Model_Q5', 'Model_Q7', 'Model_Q8', 'Model_Qashqai', 'Model_R320', 'Model_R5', 'Model_R6', 'Model_R8', 'Model_RAV4', 'Model_RCZ', 'Model_RS', 'Model_RS3', 'Model_RS4', 'Model_RS5', 'Model_RS6', 'Model_Ranger', 'Model_Rapid', 'Model_Rifter', 'Model_Rio', 'Model_Romeo', 'Model_Roomster', 'Model_S-MAX', 'Model_S-Type', 'Model_S1', 'Model_S280', 'Model_S3', 'Model_S350', 'Model_S4', 'Model_S40', 'Model_S5', 'Model_S500', 'Model_S6', 'Model_S60', 'Model_S70', 'Model_S80', 'Model_S90', 'Model_SL320', 'Model_SL450', 'Model_SL500', 'Model_SL55', 'Model_SLC300', 'Model_SLK200', 'Model_SLK230', 'Model_SLK350', 'Model_SQ5', 'Model_SQ7', 'Model_SX4', 'Model_Safrane', 'Model_Sandero', 'Model_Santa', 'Model_Scala', 'Model_Scirocco', 'Model_Scorpio', 'Model_Scudo', 'Model_Scénic', 'Model_Sharan', 'Model_Sierra', 'Model_Signum', 'Model_Silverado', 'Model_Sonata', 'Model_Sorento', 'Model_Space', 'Model_Spark', 'Model_Splash', 'Model_Sportage', 'Model_Sportsvan', 'Model_Sprinter', 'Model_Stilo', 'Model_Stonic', 'Model_Superb', 'Model_Swace', 'Model_Swift', 'Model_T-Cross', 'Model_T-Roc', 'Model_T6', 'Model_TF', 'Model_TT', 'Model_Tahoe', 'Model_Taigo', 'Model_Talento', 'Model_Talisman', 'Model_Tarraco', 'Model_Taunus', 'Model_Tempra', 'Model_Tigra', 'Model_Tiguan', 'Model_Tipo', 'Model_Toledo', 'Model_Touareg', 'Model_Touran', 'Model_Tourneo', 'Model_Trafic', 'Model_Transit', 'Model_Transporter', 'Model_Traveller', 'Model_Tucson', 'Model_Twingo', 'Model_V40', 'Model_V50', 'Model_V60', 'Model_V70', 'Model_V8', 'Model_V90', 'Model_Vectra', 'Model_Venga', 'Model_Verso', 'Model_Viano', 'Model_Vitara', 'Model_Vito', 'Model_Vivaro', 'Model_Wagon', 'Model_X-90', 'Model_X-Trail', 'Model_X1', 'Model_X2', 'Model_X250', 'Model_X3', 'Model_X4', 'Model_X5', 'Model_X6', 'Model_XC40', 'Model_XC60', 'Model_XC70', 'Model_XC90', 'Model_XCeed', 'Model_XE', 'Model_XF', 'Model_XJ', 'Model_XJ6', 'Model_XJ8', 'Model_XJR', 'Model_XJS', 'Model_XK', 'Model_XK8', 'Model_XKR', 'Model_Xantia', 'Model_Xsara', 'Model_Yaris', 'Model_Z1', 'Model_Z3', 'Model_Z4', 'Model_ZT', 'Model_Zafira', 'Model_e-tron', 'Model_i10', 'Model_i20', 'Model_i3', 'Model_i30', 'Model_i40', 'Model_iQ', 'Model_ix20', 'Model_ix35', 'Model_up!']\n",
        "\n",
        "X_train, X_test, y_train, y_test = train_test_split(data[selected_features], data['Price'], test_size=0.2, random_state=42)\n"
      ],
      "metadata": {
        "id": "LcTFyrrPAh4d"
      },
      "execution_count": 9,
      "outputs": []
    },
    {
      "cell_type": "code",
      "source": [
        "data = pd.get_dummies(data, columns=['Brand', 'Gear', 'Fuel_Type', 'Model'])"
      ],
      "metadata": {
        "id": "BMvp4MWwBI-t"
      },
      "execution_count": 8,
      "outputs": []
    },
    {
      "cell_type": "code",
      "source": [
        "# Baseline xgboosting without parameters\n",
        "xgb_model = XGBRegressor(n_estimators=600)\n",
        "\n",
        "xgb_model.fit(X_train, y_train)\n",
        "\n",
        "predictions = xgb_model.predict(X_test)\n",
        "\n",
        "mse = mean_squared_error(y_test, predictions)\n",
        "rmse = np.sqrt(mse)\n",
        "print(\"Root Mean Squared Error:\", rmse)"
      ],
      "metadata": {
        "colab": {
          "base_uri": "https://localhost:8080/",
          "height": 214
        },
        "id": "uL9_Z8UbA-UM",
        "outputId": "2e399ea2-4dcd-4935-8da6-69e709bdbac3"
      },
      "execution_count": 1,
      "outputs": [
        {
          "output_type": "error",
          "ename": "NameError",
          "evalue": "name 'XGBRegressor' is not defined",
          "traceback": [
            "\u001b[0;31m---------------------------------------------------------------------------\u001b[0m",
            "\u001b[0;31mNameError\u001b[0m                                 Traceback (most recent call last)",
            "\u001b[0;32m<ipython-input-1-0535ae6bf26d>\u001b[0m in \u001b[0;36m<cell line: 2>\u001b[0;34m()\u001b[0m\n\u001b[1;32m      1\u001b[0m \u001b[0;31m# Baseline xgboosting without parameters\u001b[0m\u001b[0;34m\u001b[0m\u001b[0;34m\u001b[0m\u001b[0m\n\u001b[0;32m----> 2\u001b[0;31m \u001b[0mxgb_model\u001b[0m \u001b[0;34m=\u001b[0m \u001b[0mXGBRegressor\u001b[0m\u001b[0;34m(\u001b[0m\u001b[0mn_estimators\u001b[0m\u001b[0;34m=\u001b[0m\u001b[0;36m600\u001b[0m\u001b[0;34m)\u001b[0m\u001b[0;34m\u001b[0m\u001b[0;34m\u001b[0m\u001b[0m\n\u001b[0m\u001b[1;32m      3\u001b[0m \u001b[0;34m\u001b[0m\u001b[0m\n\u001b[1;32m      4\u001b[0m \u001b[0mxgb_model\u001b[0m\u001b[0;34m.\u001b[0m\u001b[0mfit\u001b[0m\u001b[0;34m(\u001b[0m\u001b[0mX_train\u001b[0m\u001b[0;34m,\u001b[0m \u001b[0my_train\u001b[0m\u001b[0;34m)\u001b[0m\u001b[0;34m\u001b[0m\u001b[0;34m\u001b[0m\u001b[0m\n\u001b[1;32m      5\u001b[0m \u001b[0;34m\u001b[0m\u001b[0m\n",
            "\u001b[0;31mNameError\u001b[0m: name 'XGBRegressor' is not defined"
          ]
        }
      ]
    },
    {
      "cell_type": "code",
      "source": [
        "param_grid = {\n",
        "        'min_child_weight': [5, 10],\n",
        "        'gamma': [0, 2, 5],\n",
        "        'subsample': [0.6, 0.8, 1.0],\n",
        "        'colsample_bytree': [0.6, 0.8, 1.0],\n",
        "        'max_depth': [3, 8, 12]\n",
        "        }\n",
        "\n",
        "# Initialize the XGBoost Regressor\n",
        "xgb_model = XGBRegressor(n_estimators=600)\n",
        "\n",
        "# Initialize GridSearchCV\n",
        "grid_search = GridSearchCV(estimator=xgb_model, param_grid=param_grid, cv=5, scoring='neg_root_mean_squared_error', verbose=10)\n",
        "\n",
        "# Perform grid search\n",
        "grid_search.fit(X_train, y_train)\n",
        "\n",
        "# Print the best parameters found\n",
        "print(\"Best Parameters:\", grid_search.best_params_)\n",
        "\n",
        "# Evaluate the best model on the test set\n",
        "best_model = grid_search.best_estimator_\n",
        "predictions = best_model.predict(X_test)\n",
        "rmse = np.sqrt(mean_squared_error(y_test, predictions))\n",
        "print(\"RMSE on Test Set:\", rmse)"
      ],
      "metadata": {
        "colab": {
          "base_uri": "https://localhost:8080/"
        },
        "id": "CgQogaPGE6y1",
        "outputId": "8fd13486-4b9c-497a-e488-ef0f99a562ed"
      },
      "execution_count": null,
      "outputs": [
        {
          "output_type": "stream",
          "name": "stdout",
          "text": [
            "Fitting 5 folds for each of 162 candidates, totalling 810 fits\n",
            "[CV 1/5; 1/162] START colsample_bytree=0.6, gamma=0, max_depth=3, min_child_weight=5, subsample=0.6\n",
            "[CV 1/5; 1/162] END colsample_bytree=0.6, gamma=0, max_depth=3, min_child_weight=5, subsample=0.6;, score=-48802.021 total time=   2.6s\n",
            "[CV 2/5; 1/162] START colsample_bytree=0.6, gamma=0, max_depth=3, min_child_weight=5, subsample=0.6\n",
            "[CV 2/5; 1/162] END colsample_bytree=0.6, gamma=0, max_depth=3, min_child_weight=5, subsample=0.6;, score=-47883.972 total time=   5.1s\n",
            "[CV 3/5; 1/162] START colsample_bytree=0.6, gamma=0, max_depth=3, min_child_weight=5, subsample=0.6\n",
            "[CV 3/5; 1/162] END colsample_bytree=0.6, gamma=0, max_depth=3, min_child_weight=5, subsample=0.6;, score=-43302.870 total time=   2.6s\n",
            "[CV 4/5; 1/162] START colsample_bytree=0.6, gamma=0, max_depth=3, min_child_weight=5, subsample=0.6\n",
            "[CV 4/5; 1/162] END colsample_bytree=0.6, gamma=0, max_depth=3, min_child_weight=5, subsample=0.6;, score=-49553.452 total time=   2.6s\n",
            "[CV 5/5; 1/162] START colsample_bytree=0.6, gamma=0, max_depth=3, min_child_weight=5, subsample=0.6\n",
            "[CV 5/5; 1/162] END colsample_bytree=0.6, gamma=0, max_depth=3, min_child_weight=5, subsample=0.6;, score=-45695.132 total time=   2.6s\n",
            "[CV 1/5; 2/162] START colsample_bytree=0.6, gamma=0, max_depth=3, min_child_weight=5, subsample=0.8\n",
            "[CV 1/5; 2/162] END colsample_bytree=0.6, gamma=0, max_depth=3, min_child_weight=5, subsample=0.8;, score=-46669.767 total time=   4.8s\n",
            "[CV 2/5; 2/162] START colsample_bytree=0.6, gamma=0, max_depth=3, min_child_weight=5, subsample=0.8\n",
            "[CV 2/5; 2/162] END colsample_bytree=0.6, gamma=0, max_depth=3, min_child_weight=5, subsample=0.8;, score=-48495.009 total time=   2.5s\n",
            "[CV 3/5; 2/162] START colsample_bytree=0.6, gamma=0, max_depth=3, min_child_weight=5, subsample=0.8\n",
            "[CV 3/5; 2/162] END colsample_bytree=0.6, gamma=0, max_depth=3, min_child_weight=5, subsample=0.8;, score=-43065.826 total time=   2.6s\n",
            "[CV 4/5; 2/162] START colsample_bytree=0.6, gamma=0, max_depth=3, min_child_weight=5, subsample=0.8\n",
            "[CV 4/5; 2/162] END colsample_bytree=0.6, gamma=0, max_depth=3, min_child_weight=5, subsample=0.8;, score=-49203.334 total time=   2.5s\n",
            "[CV 5/5; 2/162] START colsample_bytree=0.6, gamma=0, max_depth=3, min_child_weight=5, subsample=0.8\n",
            "[CV 5/5; 2/162] END colsample_bytree=0.6, gamma=0, max_depth=3, min_child_weight=5, subsample=0.8;, score=-44280.841 total time=   2.6s\n",
            "[CV 1/5; 3/162] START colsample_bytree=0.6, gamma=0, max_depth=3, min_child_weight=5, subsample=1.0\n"
          ]
        },
        {
          "output_type": "stream",
          "name": "stderr",
          "text": [
            "Exception ignored on calling ctypes callback function: <bound method DataIter._next_wrapper of <xgboost.data.SingleBatchInternalIter object at 0x7f958232dd80>>\n",
            "Traceback (most recent call last):\n",
            "  File \"/usr/local/lib/python3.10/dist-packages/xgboost/core.py\", line 589, in _next_wrapper\n",
            "    def _next_wrapper(self, this: None) -> int:  # pylint: disable=unused-argument\n",
            "KeyboardInterrupt: \n"
          ]
        }
      ]
    },
    {
      "cell_type": "code",
      "source": [
        "# Random Forest\n",
        "rf_model = RandomForestRegressor(n_estimators=100, random_state=42)\n",
        "\n",
        "# Train the model\n",
        "rf_model.fit(X_train, y_train)\n",
        "\n",
        "# Make predictions on the test set\n",
        "predictions = rf_model.predict(X_test)\n",
        "\n",
        "# Calculate Mean Squared Error\n",
        "rmse = np.sqrt(mean_squared_error(y_test, predictions))\n",
        "print(\"Mean Squared Error:\", rmse)"
      ],
      "metadata": {
        "colab": {
          "base_uri": "https://localhost:8080/"
        },
        "id": "AeNw8P-VK8DO",
        "outputId": "4461e2b2-0644-4bf5-8c05-5321085745c0"
      },
      "execution_count": 76,
      "outputs": [
        {
          "output_type": "stream",
          "name": "stdout",
          "text": [
            "Mean Squared Error: 43767.28360123798\n"
          ]
        }
      ]
    },
    {
      "cell_type": "code",
      "source": [
        "missing_values = data.isnull().sum()\n",
        "\n",
        "# Print columns with missing values, if any\n",
        "print(\"Columns with missing values:\")\n",
        "print(missing_values[missing_values > 0])"
      ],
      "metadata": {
        "colab": {
          "base_uri": "https://localhost:8080/"
        },
        "id": "EEQYzjg9N_e-",
        "outputId": "5a283a12-7ff1-4138-8af8-140a89687931"
      },
      "execution_count": 77,
      "outputs": [
        {
          "output_type": "stream",
          "name": "stdout",
          "text": [
            "Columns with missing values:\n",
            "Km/L                 1226\n",
            "Range (Electric)    13188\n",
            "dtype: int64\n"
          ]
        }
      ]
    },
    {
      "cell_type": "code",
      "source": [
        "brand_mean_horsepower = data.groupby('Brand')['Horsepower'].transform('mean')\n",
        "\n",
        "# Impute missing 'Horsepower' values with the mean 'Horsepower' of their respective brand\n",
        "data['Horsepower'] = data['Horsepower'].fillna(brand_mean_horsepower)\n",
        "\n",
        "# Since the mean could be NaN if a brand's all Horsepower values are NaN, optionally handle these\n",
        "# by replacing any remaining NaNs with the overall mean of the 'Horsepower' across all brands\n",
        "overall_mean_horsepower = data['Horsepower'].mean()\n",
        "data['Horsepower'] = data['Horsepower'].fillna(overall_mean_horsepower)"
      ],
      "metadata": {
        "id": "ehyJsFlYP3sz"
      },
      "execution_count": 7,
      "outputs": []
    },
    {
      "cell_type": "code",
      "source": [
        "# Get feature importances\n",
        "feature_importances = best_model.feature_importances_\n",
        "\n",
        "# Create a DataFrame to store feature importances along with their corresponding column names\n",
        "feature_importance_df = pd.DataFrame({'Feature': X_train.columns, 'Importance': feature_importances})\n",
        "\n",
        "# Sort the DataFrame by importance in descending order\n",
        "feature_importance_df = feature_importance_df.sort_values(by='Importance', ascending=False)\n",
        "\n",
        "# Print the top N important features\n",
        "N = 25  # Change this value to display more or fewer top features\n",
        "print(\"Top\", N, \"important features:\")\n",
        "print(feature_importance_df.head(N))\n"
      ],
      "metadata": {
        "colab": {
          "base_uri": "https://localhost:8080/"
        },
        "id": "PQEpaUjZTE9C",
        "outputId": "d7290b6f-24c5-4af9-9c41-f137c92f6cb3"
      },
      "execution_count": 80,
      "outputs": [
        {
          "output_type": "stream",
          "name": "stdout",
          "text": [
            "Top 25 important features:\n",
            "                     Feature  Importance\n",
            "59          Gear_Automatgear    0.301269\n",
            "1                 Horsepower    0.030384\n",
            "2                  KM Driven    0.020626\n",
            "29   Adaptive Cruise Control    0.017531\n",
            "633                 Model_i3    0.016573\n",
            "18            Sports Package    0.015635\n",
            "62          Fuel_Type_Diesel    0.013964\n",
            "43                  Brand_MG    0.013921\n",
            "5                        4WD    0.013018\n",
            "45            Brand_Mercedes    0.012479\n",
            "20              Xenon Lights    0.011585\n",
            "327               Model_E300    0.011464\n",
            "52             Brand_Renault    0.011356\n",
            "51             Brand_Porsche    0.011138\n",
            "49                Brand_Opel    0.010982\n",
            "608               Model_XC60    0.009288\n",
            "0                       Year    0.009067\n",
            "160                Model_911    0.008719\n",
            "13            Headup Display    0.008287\n",
            "411             Model_Kodiaq    0.007528\n",
            "537              Model_Scala    0.007359\n",
            "365             Model_GLB200    0.006802\n",
            "572             Model_Tiguan    0.006666\n",
            "41              Brand_Jaguar    0.006342\n",
            "12                Glass Roof    0.006332\n"
          ]
        }
      ]
    },
    {
      "cell_type": "code",
      "source": [
        "predictions = best_model.predict(X_test)\n",
        "\n",
        "# Calculate R-squared\n",
        "r_squared = r2_score(y_test, predictions)\n",
        "\n",
        "# Calculate Mean Absolute Error\n",
        "mae = mean_absolute_error(y_test, predictions)\n",
        "\n",
        "# Calculate Mean Squared Error\n",
        "mse = mean_squared_error(y_test, predictions)\n",
        "\n",
        "# Calculate Root Mean Squared Error\n",
        "rmse = np.sqrt(mse)\n",
        "\n",
        "# Print the evaluation metrics\n",
        "print(\"R-squared:\", r_squared)\n",
        "print(\"Mean Absolute Error:\", mae)\n",
        "print(\"Mean Squared Error:\", mse)\n",
        "print(\"Root Mean Squared Error:\", rmse)"
      ],
      "metadata": {
        "id": "eVEnqehjgJF9"
      },
      "execution_count": null,
      "outputs": []
    },
    {
      "cell_type": "code",
      "source": [
        "# Check the number of features in X_train and the length of feature importances array\n",
        "print(\"Number of features:\", len(X_train.columns))\n",
        "print(\"Length of feature importances array:\", len(feature_importances))\n"
      ],
      "metadata": {
        "colab": {
          "base_uri": "https://localhost:8080/"
        },
        "id": "6T5xjw3ZTPpy",
        "outputId": "cb06e9b8-23a0-424b-aa32-180e0271e239"
      },
      "execution_count": 82,
      "outputs": [
        {
          "output_type": "stream",
          "name": "stdout",
          "text": [
            "Number of features: 640\n",
            "Length of feature importances array: 640\n"
          ]
        }
      ]
    },
    {
      "cell_type": "code",
      "source": [
        "# Assuming 'data' is your DataFrame\n",
        "column_names = data.columns.tolist()\n",
        "print(\"Column names:\", column_names)\n"
      ],
      "metadata": {
        "colab": {
          "base_uri": "https://localhost:8080/"
        },
        "id": "i1-5KJWCUTIQ",
        "outputId": "cf80f9c3-1e21-4cdb-c805-92dfa7e82058"
      },
      "execution_count": 73,
      "outputs": [
        {
          "output_type": "stream",
          "name": "stdout",
          "text": [
            "Column names: ['KM Driven', 'Variant', 'Km/L', 'Range (Electric)', 'Price', 'GPS', 'Trailer Hitch', '4WD', 'Parkingsensor', 'Cruise Control', 'Antispin', 'ESP', 'El-Sæder', 'Leather Interior', 'Glass Roof', 'Headup Display', 'Isofix', 'Klimaanlæg', 'Regnsensor', 'Soltag', 'Sports Package', 'Seatwarmer', 'Xenon Lights', 'Non-Smoker', 'One-Owner', 'Service OK', 'Nysynet', 'Demo Car', 'Partly Leather Interior', 'CVR/Engros', 'Full Leather', 'Adaptive Cruise Control', 'Link', 'Year', 'Horsepower', 'Brand_Alfa', 'Brand_Audi', 'Brand_BMW', 'Brand_Chevrolet', 'Brand_Citroën', 'Brand_Cupra', 'Brand_Dacia', 'Brand_Fiat', 'Brand_Ford', 'Brand_Honda', 'Brand_Hyundai', 'Brand_Jaguar', 'Brand_Kia', 'Brand_MG', 'Brand_Mazda', 'Brand_Mercedes', 'Brand_Mini', 'Brand_Mitsubishi', 'Brand_Nissan', 'Brand_Opel', 'Brand_Peugeot', 'Brand_Porsche', 'Brand_Renault', 'Brand_Seat', 'Brand_Skoda', 'Brand_Suzuki', 'Brand_Toyota', 'Brand_VW', 'Brand_Volvo', 'Gear_Automatgear', 'Gear_Manuelt gear', 'Fuel_Type_Benzin', 'Fuel_Type_Diesel', 'Fuel_Type_Hybrid', 'Model_100', 'Model_1007', 'Model_106', 'Model_107', 'Model_108', 'Model_116', 'Model_118', 'Model_120', 'Model_124', 'Model_125', 'Model_126', 'Model_128', 'Model_190', 'Model_2', 'Model_200', 'Model_2008', 'Model_204', 'Model_205', 'Model_206', 'Model_206+', 'Model_207', 'Model_208', 'Model_216', 'Model_218', 'Model_220', 'Model_225', 'Model_228', 'Model_230', 'Model_240', 'Model_245', 'Model_262', 'Model_280', 'Model_2CV', 'Model_3', 'Model_300', 'Model_3000', 'Model_3008', 'Model_306', 'Model_307', 'Model_308', 'Model_309', 'Model_316', 'Model_318', 'Model_320', 'Model_320e', 'Model_323', 'Model_325', 'Model_328', 'Model_330', 'Model_330e', 'Model_335', 'Model_350Z', 'Model_404', 'Model_405', 'Model_406', 'Model_407', 'Model_408', 'Model_418', 'Model_420', 'Model_428', 'Model_430', 'Model_435', 'Model_5', 'Model_500', 'Model_5008', 'Model_500C', 'Model_500L', 'Model_500S', 'Model_500X', 'Model_501', 'Model_504', 'Model_508', 'Model_520', 'Model_523', 'Model_525', 'Model_528', 'Model_530', 'Model_535', 'Model_540', 'Model_550', 'Model_560', 'Model_6', 'Model_605', 'Model_626', 'Model_635', 'Model_650', 'Model_700', 'Model_730', 'Model_735', 'Model_740', 'Model_750', 'Model_760', 'Model_780', 'Model_80', 'Model_840', 'Model_850', 'Model_911', 'Model_928', 'Model_940', 'Model_944', 'Model_960', 'Model_964', 'Model_968', 'Model_993', 'Model_A1', 'Model_A160', 'Model_A180', 'Model_A200', 'Model_A220', 'Model_A250', 'Model_A3', 'Model_A35', 'Model_A4', 'Model_A45', 'Model_A5', 'Model_A6', 'Model_A7', 'Model_A8', 'Model_AMG', 'Model_ASX', 'Model_AX', 'Model_Accent', 'Model_Accord', 'Model_Across', 'Model_Adam', 'Model_Agila', 'Model_Almera', 'Model_Altea', 'Model_Alto', 'Model_Amarok', 'Model_Antara', 'Model_Arkana', 'Model_Arona', 'Model_Arteon', 'Model_Ascona', 'Model_Astra', 'Model_Ateca', 'Model_Auris', 'Model_Austral', 'Model_Avalanche', 'Model_Avensis', 'Model_Aveo', 'Model_Aygo', 'Model_B', 'Model_B-MAX', 'Model_B180', 'Model_B200', 'Model_B220', 'Model_B250', 'Model_B250e', 'Model_BX', 'Model_Baleno', 'Model_Barchetta', 'Model_Bayon', 'Model_Beetle', 'Model_Berlingo', 'Model_Bipper', 'Model_Boxer', 'Model_Boxster', 'Model_Bravo', 'Model_C-HR', 'Model_C-MAX', 'Model_C1', 'Model_C1500', 'Model_C180', 'Model_C2', 'Model_C200', 'Model_C220', 'Model_C250', 'Model_C280', 'Model_C3', 'Model_C30', 'Model_C300', 'Model_C300e', 'Model_C320', 'Model_C350e', 'Model_C4', 'Model_C400', 'Model_C43', 'Model_C5', 'Model_C63', 'Model_C70', 'Model_C8', 'Model_CC', 'Model_CL500', 'Model_CLA180', 'Model_CLA200', 'Model_CLA220', 'Model_CLA250', 'Model_CLA250e', 'Model_CLK200', 'Model_CLK220', 'Model_CLK240', 'Model_CLK320', 'Model_CLK500', 'Model_CLK55', 'Model_CLS220', 'Model_CLS250', 'Model_CLS320', 'Model_CLS350', 'Model_CLS500', 'Model_CLS63', 'Model_CR-V', 'Model_CR-X', 'Model_CX', 'Model_CX-3', 'Model_CX-30', 'Model_CX-5', 'Model_CX-60', 'Model_Cabriolet', 'Model_Cabstar', 'Model_Caddy', 'Model_Calibra', 'Model_California', 'Model_Camaro', 'Model_Camry', 'Model_Capri', 'Model_Caprice', 'Model_Captur', 'Model_Caravelle', 'Model_Carens', 'Model_Cargo', 'Model_Carisma', 'Model_Cascada', 'Model_Cayenne', 'Model_Ceed', 'Model_Celerio', 'Model_Celica', 'Model_Chevelle', 'Model_Cinquecento', 'Model_Citan', 'Model_Citigo', 'Model_Civic', 'Model_Clio', 'Model_Clubman', 'Model_Colt', 'Model_Combo', 'Model_Consul', 'Model_Cooper', 'Model_Corolla', 'Model_Corsa', 'Model_Cortina', 'Model_Corvette', 'Model_Cougar', 'Model_Countryman', 'Model_Coupé', 'Model_Crafter', 'Model_Croma', 'Model_Crossland', 'Model_Cruze', 'Model_DS3', 'Model_DS4', 'Model_Doblò', 'Model_Dokker', 'Model_Ducato', 'Model_Duster', 'Model_Dyna', 'Model_E-Pace', 'Model_E200', 'Model_E220', 'Model_E230', 'Model_E250', 'Model_E280', 'Model_E300', 'Model_E320', 'Model_E350', 'Model_E400', 'Model_E430', 'Model_E500', 'Model_E63', 'Model_EHS', 'Model_Eclipse', 'Model_Ecosport', 'Model_Edge', 'Model_Elantra', 'Model_Escort', 'Model_Espace', 'Model_Expert', 'Model_Express', 'Model_F', 'Model_F-150', 'Model_F-Pace', 'Model_FR-V', 'Model_Fabia', 'Model_Felicia', 'Model_Fiesta', 'Model_Figaro', 'Model_Fiorino', 'Model_Focus', 'Model_Formentor', 'Model_Fox', 'Model_Fullback', 'Model_Fusion', 'Model_G', 'Model_G350', 'Model_G500', 'Model_GL320', 'Model_GLA180', 'Model_GLA200', 'Model_GLA220', 'Model_GLA250', 'Model_GLB200', 'Model_GLB220', 'Model_GLC220', 'Model_GLC250', 'Model_GLC300', 'Model_GLC300e', 'Model_GLC350', 'Model_GLC43', 'Model_GLC63', 'Model_GLE350', 'Model_GLE350e', 'Model_GLE53', 'Model_GLK220', 'Model_GLK350', 'Model_Galant', 'Model_Galaxy', 'Model_Getz', 'Model_Golf', 'Model_Grand', 'Model_Grande', 'Model_Grandis', 'Model_Grandland', 'Model_H', 'Model_H-1', 'Model_HR-V', 'Model_HiAce', 'Model_HiLux', 'Model_Ibiza', 'Model_Ignis', 'Model_Insignia', 'Model_Ioniq', 'Model_Jazz', 'Model_Jimny', 'Model_Jogger', 'Model_Juke', 'Model_Jumper', 'Model_Jumpy', 'Model_Ka', 'Model_Kadett', 'Model_Kadjar', 'Model_Kamiq', 'Model_Kangoo', 'Model_Karl', 'Model_Karmann', 'Model_Karoq', 'Model_King', 'Model_Kodiaq', 'Model_Kona', 'Model_Kuga', 'Model_L200', 'Model_Lacetti', 'Model_Laguna', 'Model_Lancer', 'Model_Land', 'Model_Legend', 'Model_Leon', 'Model_Liana', 'Model_Lodgy', 'Model_Logan', 'Model_Lupo', 'Model_M135', 'Model_M140', 'Model_M3', 'Model_M5', 'Model_M550', 'Model_M760', 'Model_ML270', 'Model_ML320', 'Model_ML350', 'Model_ML500', 'Model_MX3', 'Model_MX30', 'Model_MX5', 'Model_Macan', 'Model_Master', 'Model_Matiz', 'Model_Matrix', 'Model_Maverick', 'Model_Maxima', 'Model_Meriva', 'Model_Micra', 'Model_Mii', 'Model_Mokka', 'Model_Mondeo', 'Model_Movano', 'Model_Multivan', 'Model_Mustang', 'Model_Mégane', 'Model_NV200', 'Model_NV300', 'Model_NV400', 'Model_Navara', 'Model_Niro', 'Model_Note', 'Model_Nubira', 'Model_ONE', 'Model_Octavia', 'Model_One', 'Model_Opirus', 'Model_Optima', 'Model_Orlando', 'Model_Outlander', 'Model_Pajero', 'Model_Panda', 'Model_Partner', 'Model_Passat', 'Model_Phaeton', 'Model_Picanto', 'Model_Pixo', 'Model_Polo', 'Model_Prelude', 'Model_Primastar', 'Model_Primera', 'Model_Prius', 'Model_Prius+', 'Model_ProCeed', 'Model_Proace', 'Model_Pulsar', 'Model_Puma', 'Model_Punto', 'Model_Q2', 'Model_Q3', 'Model_Q5', 'Model_Q7', 'Model_Q8', 'Model_Qashqai', 'Model_R320', 'Model_R5', 'Model_R6', 'Model_R8', 'Model_RAV4', 'Model_RCZ', 'Model_RS', 'Model_RS3', 'Model_RS4', 'Model_RS5', 'Model_RS6', 'Model_Ranger', 'Model_Rapid', 'Model_Rifter', 'Model_Rio', 'Model_Romeo', 'Model_Roomster', 'Model_S-MAX', 'Model_S-Type', 'Model_S1', 'Model_S280', 'Model_S3', 'Model_S350', 'Model_S4', 'Model_S40', 'Model_S5', 'Model_S500', 'Model_S6', 'Model_S60', 'Model_S70', 'Model_S80', 'Model_S90', 'Model_SL320', 'Model_SL450', 'Model_SL500', 'Model_SL55', 'Model_SLC300', 'Model_SLK200', 'Model_SLK230', 'Model_SLK350', 'Model_SQ5', 'Model_SQ7', 'Model_SX4', 'Model_Safrane', 'Model_Sandero', 'Model_Santa', 'Model_Scala', 'Model_Scirocco', 'Model_Scorpio', 'Model_Scudo', 'Model_Scénic', 'Model_Sharan', 'Model_Sierra', 'Model_Signum', 'Model_Silverado', 'Model_Sonata', 'Model_Sorento', 'Model_Space', 'Model_Spark', 'Model_Splash', 'Model_Sportage', 'Model_Sportsvan', 'Model_Sprinter', 'Model_Stilo', 'Model_Stonic', 'Model_Superb', 'Model_Swace', 'Model_Swift', 'Model_T-Cross', 'Model_T-Roc', 'Model_T6', 'Model_TF', 'Model_TT', 'Model_Tahoe', 'Model_Taigo', 'Model_Talento', 'Model_Talisman', 'Model_Tarraco', 'Model_Taunus', 'Model_Tempra', 'Model_Tigra', 'Model_Tiguan', 'Model_Tipo', 'Model_Toledo', 'Model_Touareg', 'Model_Touran', 'Model_Tourneo', 'Model_Trafic', 'Model_Transit', 'Model_Transporter', 'Model_Traveller', 'Model_Tucson', 'Model_Twingo', 'Model_V40', 'Model_V50', 'Model_V60', 'Model_V70', 'Model_V8', 'Model_V90', 'Model_Vectra', 'Model_Venga', 'Model_Verso', 'Model_Viano', 'Model_Vitara', 'Model_Vito', 'Model_Vivaro', 'Model_Wagon', 'Model_X-90', 'Model_X-Trail', 'Model_X1', 'Model_X2', 'Model_X250', 'Model_X3', 'Model_X4', 'Model_X5', 'Model_X6', 'Model_XC40', 'Model_XC60', 'Model_XC70', 'Model_XC90', 'Model_XCeed', 'Model_XE', 'Model_XF', 'Model_XJ', 'Model_XJ6', 'Model_XJ8', 'Model_XJR', 'Model_XJS', 'Model_XK', 'Model_XK8', 'Model_XKR', 'Model_Xantia', 'Model_Xsara', 'Model_Yaris', 'Model_Z1', 'Model_Z3', 'Model_Z4', 'Model_ZT', 'Model_Zafira', 'Model_e-tron', 'Model_i10', 'Model_i20', 'Model_i3', 'Model_i30', 'Model_i40', 'Model_iQ', 'Model_ix20', 'Model_ix35', 'Model_up!']\n"
          ]
        }
      ]
    }
  ]
}