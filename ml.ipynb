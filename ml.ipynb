{
  "nbformat": 4,
  "nbformat_minor": 0,
  "metadata": {
    "colab": {
      "provenance": [],
      "mount_file_id": "1FaURT9H0n2Rn4M0QekEfoxA4Jhu23LQM",
      "authorship_tag": "ABX9TyP1oGD5f0TJsvSyM9c62EhI",
      "include_colab_link": true
    },
    "kernelspec": {
      "name": "python3",
      "display_name": "Python 3"
    },
    "language_info": {
      "name": "python"
    }
  },
  "cells": [
    {
      "cell_type": "markdown",
      "metadata": {
        "id": "view-in-github",
        "colab_type": "text"
      },
      "source": [
        "<a href=\"https://colab.research.google.com/github/MathiasJannikBrussow/DSP/blob/main/ml.ipynb\" target=\"_parent\"><img src=\"https://colab.research.google.com/assets/colab-badge.svg\" alt=\"Open In Colab\"/></a>"
      ]
    },
    {
      "cell_type": "code",
      "execution_count": 24,
      "metadata": {
        "id": "pZTLQ3g3_Y7F"
      },
      "outputs": [],
      "source": [
        "import pandas as pd\n",
        "import numpy as np\n",
        "import matplotlib.pyplot as plt\n",
        "from sklearn.model_selection import train_test_split\n",
        "from sklearn.metrics import mean_squared_error\n",
        "from xgboost import XGBRegressor\n",
        "from sklearn.model_selection import GridSearchCV"
      ]
    },
    {
      "cell_type": "code",
      "source": [
        "data = pd.read_csv('/content/drive/MyDrive/fuel_data_bdh.csv')"
      ],
      "metadata": {
        "id": "ESEPK1HX_qft"
      },
      "execution_count": 6,
      "outputs": []
    },
    {
      "cell_type": "code",
      "source": [
        "data.drop(columns=['Motor Specs'], inplace=True)\n",
        "columns_to_replace = ['GPS', 'Trailer Hitch', '4WD', 'Parkingsensor', 'Cruise Control', 'Antispin', 'ESP', 'El-Sæder', 'Leather Interior', 'Glass Roof', 'Headup Display', 'Isofix', 'Klimaanlæg', 'Regnsensor', 'Soltag', 'Sports Package', 'Seatwarmer', 'Xenon Lights', 'Non-Smoker', 'One-Owner', 'Service OK', 'Nysynet', 'Demo Car', 'Partly Leather Interior', 'CVR/Engros', 'Full Leather', 'Adaptive Cruise Control']  # Specify the columns you want to replace values in\n",
        "data[columns_to_replace] = data[columns_to_replace].replace({'Yes': 1, 'No': 0})\n"
      ],
      "metadata": {
        "id": "Wsy5HmKO_r-D"
      },
      "execution_count": 7,
      "outputs": []
    },
    {
      "cell_type": "code",
      "source": [
        "selected_features = ['KM Driven', 'Horsepower', 'GPS', 'Trailer Hitch', '4WD', 'Parkingsensor', 'Cruise Control', 'Antispin', 'ESP', 'El-Sæder', 'Leather Interior', 'Glass Roof', 'Headup Display', 'Isofix', 'Klimaanlæg', 'Regnsensor', 'Soltag', 'Sports Package', 'Seatwarmer', 'Xenon Lights', 'Non-Smoker', 'One-Owner', 'Service OK', 'Nysynet', 'Demo Car', 'Partly Leather Interior', 'CVR/Engros', 'Full Leather', 'Adaptive Cruise Control', 'Brand_Alfa', 'Brand_Audi', 'Brand_BMW', 'Brand_Chevrolet', 'Brand_Citroën',\n",
        "    'Brand_Cupra', 'Brand_Dacia', 'Brand_Fiat', 'Brand_Ford', 'Brand_Honda', 'Brand_Hyundai', 'Brand_Jaguar', 'Brand_Kia', 'Brand_MG', 'Brand_Mazda', 'Brand_Mercedes', 'Brand_Mini', 'Brand_Mitsubishi', 'Brand_Nissan', 'Brand_Opel',\n",
        "    'Brand_Peugeot', 'Brand_Porsche', 'Brand_Renault', 'Brand_Seat', 'Brand_Skoda','Brand_Suzuki', 'Brand_Toyota', 'Brand_VW', 'Brand_Volvo','Gear_Automatgear', 'Gear_Manuelt gear']\n",
        "\n",
        "X_train, X_test, y_train, y_test = train_test_split(data[selected_features], data['Price'], test_size=0.2, random_state=42)\n"
      ],
      "metadata": {
        "id": "LcTFyrrPAh4d"
      },
      "execution_count": 21,
      "outputs": []
    },
    {
      "cell_type": "code",
      "source": [
        "data = pd.get_dummies(data, columns=['Brand', 'Gear'])"
      ],
      "metadata": {
        "id": "BMvp4MWwBI-t"
      },
      "execution_count": 10,
      "outputs": []
    },
    {
      "cell_type": "code",
      "source": [
        "xgb_model = XGBRegressor()\n",
        "\n",
        "xgb_model.fit(X_train, y_train)"
      ],
      "metadata": {
        "colab": {
          "base_uri": "https://localhost:8080/",
          "height": 248
        },
        "id": "uL9_Z8UbA-UM",
        "outputId": "e3849246-b6ae-43e8-a1db-ef583418ca5d"
      },
      "execution_count": 22,
      "outputs": [
        {
          "output_type": "execute_result",
          "data": {
            "text/plain": [
              "XGBRegressor(base_score=None, booster=None, callbacks=None,\n",
              "             colsample_bylevel=None, colsample_bynode=None,\n",
              "             colsample_bytree=None, device=None, early_stopping_rounds=None,\n",
              "             enable_categorical=False, eval_metric=None, feature_types=None,\n",
              "             gamma=None, grow_policy=None, importance_type=None,\n",
              "             interaction_constraints=None, learning_rate=None, max_bin=None,\n",
              "             max_cat_threshold=None, max_cat_to_onehot=None,\n",
              "             max_delta_step=None, max_depth=None, max_leaves=None,\n",
              "             min_child_weight=None, missing=nan, monotone_constraints=None,\n",
              "             multi_strategy=None, n_estimators=None, n_jobs=None,\n",
              "             num_parallel_tree=None, random_state=None, ...)"
            ],
            "text/html": [
              "<style>#sk-container-id-2 {color: black;background-color: white;}#sk-container-id-2 pre{padding: 0;}#sk-container-id-2 div.sk-toggleable {background-color: white;}#sk-container-id-2 label.sk-toggleable__label {cursor: pointer;display: block;width: 100%;margin-bottom: 0;padding: 0.3em;box-sizing: border-box;text-align: center;}#sk-container-id-2 label.sk-toggleable__label-arrow:before {content: \"▸\";float: left;margin-right: 0.25em;color: #696969;}#sk-container-id-2 label.sk-toggleable__label-arrow:hover:before {color: black;}#sk-container-id-2 div.sk-estimator:hover label.sk-toggleable__label-arrow:before {color: black;}#sk-container-id-2 div.sk-toggleable__content {max-height: 0;max-width: 0;overflow: hidden;text-align: left;background-color: #f0f8ff;}#sk-container-id-2 div.sk-toggleable__content pre {margin: 0.2em;color: black;border-radius: 0.25em;background-color: #f0f8ff;}#sk-container-id-2 input.sk-toggleable__control:checked~div.sk-toggleable__content {max-height: 200px;max-width: 100%;overflow: auto;}#sk-container-id-2 input.sk-toggleable__control:checked~label.sk-toggleable__label-arrow:before {content: \"▾\";}#sk-container-id-2 div.sk-estimator input.sk-toggleable__control:checked~label.sk-toggleable__label {background-color: #d4ebff;}#sk-container-id-2 div.sk-label input.sk-toggleable__control:checked~label.sk-toggleable__label {background-color: #d4ebff;}#sk-container-id-2 input.sk-hidden--visually {border: 0;clip: rect(1px 1px 1px 1px);clip: rect(1px, 1px, 1px, 1px);height: 1px;margin: -1px;overflow: hidden;padding: 0;position: absolute;width: 1px;}#sk-container-id-2 div.sk-estimator {font-family: monospace;background-color: #f0f8ff;border: 1px dotted black;border-radius: 0.25em;box-sizing: border-box;margin-bottom: 0.5em;}#sk-container-id-2 div.sk-estimator:hover {background-color: #d4ebff;}#sk-container-id-2 div.sk-parallel-item::after {content: \"\";width: 100%;border-bottom: 1px solid gray;flex-grow: 1;}#sk-container-id-2 div.sk-label:hover label.sk-toggleable__label {background-color: #d4ebff;}#sk-container-id-2 div.sk-serial::before {content: \"\";position: absolute;border-left: 1px solid gray;box-sizing: border-box;top: 0;bottom: 0;left: 50%;z-index: 0;}#sk-container-id-2 div.sk-serial {display: flex;flex-direction: column;align-items: center;background-color: white;padding-right: 0.2em;padding-left: 0.2em;position: relative;}#sk-container-id-2 div.sk-item {position: relative;z-index: 1;}#sk-container-id-2 div.sk-parallel {display: flex;align-items: stretch;justify-content: center;background-color: white;position: relative;}#sk-container-id-2 div.sk-item::before, #sk-container-id-2 div.sk-parallel-item::before {content: \"\";position: absolute;border-left: 1px solid gray;box-sizing: border-box;top: 0;bottom: 0;left: 50%;z-index: -1;}#sk-container-id-2 div.sk-parallel-item {display: flex;flex-direction: column;z-index: 1;position: relative;background-color: white;}#sk-container-id-2 div.sk-parallel-item:first-child::after {align-self: flex-end;width: 50%;}#sk-container-id-2 div.sk-parallel-item:last-child::after {align-self: flex-start;width: 50%;}#sk-container-id-2 div.sk-parallel-item:only-child::after {width: 0;}#sk-container-id-2 div.sk-dashed-wrapped {border: 1px dashed gray;margin: 0 0.4em 0.5em 0.4em;box-sizing: border-box;padding-bottom: 0.4em;background-color: white;}#sk-container-id-2 div.sk-label label {font-family: monospace;font-weight: bold;display: inline-block;line-height: 1.2em;}#sk-container-id-2 div.sk-label-container {text-align: center;}#sk-container-id-2 div.sk-container {/* jupyter's `normalize.less` sets `[hidden] { display: none; }` but bootstrap.min.css set `[hidden] { display: none !important; }` so we also need the `!important` here to be able to override the default hidden behavior on the sphinx rendered scikit-learn.org. See: https://github.com/scikit-learn/scikit-learn/issues/21755 */display: inline-block !important;position: relative;}#sk-container-id-2 div.sk-text-repr-fallback {display: none;}</style><div id=\"sk-container-id-2\" class=\"sk-top-container\"><div class=\"sk-text-repr-fallback\"><pre>XGBRegressor(base_score=None, booster=None, callbacks=None,\n",
              "             colsample_bylevel=None, colsample_bynode=None,\n",
              "             colsample_bytree=None, device=None, early_stopping_rounds=None,\n",
              "             enable_categorical=False, eval_metric=None, feature_types=None,\n",
              "             gamma=None, grow_policy=None, importance_type=None,\n",
              "             interaction_constraints=None, learning_rate=None, max_bin=None,\n",
              "             max_cat_threshold=None, max_cat_to_onehot=None,\n",
              "             max_delta_step=None, max_depth=None, max_leaves=None,\n",
              "             min_child_weight=None, missing=nan, monotone_constraints=None,\n",
              "             multi_strategy=None, n_estimators=None, n_jobs=None,\n",
              "             num_parallel_tree=None, random_state=None, ...)</pre><b>In a Jupyter environment, please rerun this cell to show the HTML representation or trust the notebook. <br />On GitHub, the HTML representation is unable to render, please try loading this page with nbviewer.org.</b></div><div class=\"sk-container\" hidden><div class=\"sk-item\"><div class=\"sk-estimator sk-toggleable\"><input class=\"sk-toggleable__control sk-hidden--visually\" id=\"sk-estimator-id-2\" type=\"checkbox\" checked><label for=\"sk-estimator-id-2\" class=\"sk-toggleable__label sk-toggleable__label-arrow\">XGBRegressor</label><div class=\"sk-toggleable__content\"><pre>XGBRegressor(base_score=None, booster=None, callbacks=None,\n",
              "             colsample_bylevel=None, colsample_bynode=None,\n",
              "             colsample_bytree=None, device=None, early_stopping_rounds=None,\n",
              "             enable_categorical=False, eval_metric=None, feature_types=None,\n",
              "             gamma=None, grow_policy=None, importance_type=None,\n",
              "             interaction_constraints=None, learning_rate=None, max_bin=None,\n",
              "             max_cat_threshold=None, max_cat_to_onehot=None,\n",
              "             max_delta_step=None, max_depth=None, max_leaves=None,\n",
              "             min_child_weight=None, missing=nan, monotone_constraints=None,\n",
              "             multi_strategy=None, n_estimators=None, n_jobs=None,\n",
              "             num_parallel_tree=None, random_state=None, ...)</pre></div></div></div></div></div>"
            ]
          },
          "metadata": {},
          "execution_count": 22
        }
      ]
    },
    {
      "cell_type": "code",
      "source": [
        "predictions = xgb_model.predict(X_test)\n",
        "\n",
        "mse = mean_squared_error(y_test, predictions)\n",
        "rmse = np.sqrt(mse)\n",
        "print(\"Root Mean Squared Error:\", rmse)"
      ],
      "metadata": {
        "colab": {
          "base_uri": "https://localhost:8080/"
        },
        "id": "l4PZ3sKCBBFu",
        "outputId": "cb5f2693-16e6-4927-e578-8676b05d0ed3"
      },
      "execution_count": 23,
      "outputs": [
        {
          "output_type": "stream",
          "name": "stdout",
          "text": [
            "Root Mean Squared Error: 46647.08447109343\n"
          ]
        }
      ]
    },
    {
      "cell_type": "code",
      "source": [
        "param_grid = {\n",
        "    'learning_rate': [0.05, 0.1, 0.2],\n",
        "    'max_depth': [3, 4, 5],\n",
        "    'min_child_weight': [1, 2, 3],\n",
        "    'gamma': [0, 0.1, 0.2],\n",
        "}\n",
        "\n",
        "# Initialize the XGBoost Regressor\n",
        "xgb_model = XGBRegressor()\n",
        "\n",
        "# Initialize GridSearchCV\n",
        "grid_search = GridSearchCV(estimator=xgb_model, param_grid=param_grid, cv=3, scoring='neg_root_mean_squared_error', verbose=2)\n",
        "\n",
        "# Perform grid search\n",
        "grid_search.fit(X_train, y_train)\n",
        "\n",
        "# Print the best parameters found\n",
        "print(\"Best Parameters:\", grid_search.best_params_)\n",
        "\n",
        "# Evaluate the best model on the test set\n",
        "best_model = grid_search.best_estimator_\n",
        "predictions = best_model.predict(X_test)\n",
        "rmse = np.sqrt(mean_squared_error(y_test, predictions))\n",
        "print(\"RMSE on Test Set:\", rmse)"
      ],
      "metadata": {
        "colab": {
          "base_uri": "https://localhost:8080/"
        },
        "id": "CgQogaPGE6y1",
        "outputId": "778fcecb-73fc-4201-d045-9e4a9b2e08ec"
      },
      "execution_count": 25,
      "outputs": [
        {
          "output_type": "stream",
          "name": "stdout",
          "text": [
            "Fitting 3 folds for each of 81 candidates, totalling 243 fits\n",
            "[CV] END gamma=0, learning_rate=0.05, max_depth=3, min_child_weight=1; total time=   0.2s\n",
            "[CV] END gamma=0, learning_rate=0.05, max_depth=3, min_child_weight=1; total time=   0.2s\n",
            "[CV] END gamma=0, learning_rate=0.05, max_depth=3, min_child_weight=1; total time=   0.3s\n",
            "[CV] END gamma=0, learning_rate=0.05, max_depth=3, min_child_weight=2; total time=   1.8s\n",
            "[CV] END gamma=0, learning_rate=0.05, max_depth=3, min_child_weight=2; total time=   0.6s\n",
            "[CV] END gamma=0, learning_rate=0.05, max_depth=3, min_child_weight=2; total time=   0.2s\n",
            "[CV] END gamma=0, learning_rate=0.05, max_depth=3, min_child_weight=3; total time=   0.2s\n",
            "[CV] END gamma=0, learning_rate=0.05, max_depth=3, min_child_weight=3; total time=   0.3s\n",
            "[CV] END gamma=0, learning_rate=0.05, max_depth=3, min_child_weight=3; total time=   0.2s\n",
            "[CV] END gamma=0, learning_rate=0.05, max_depth=4, min_child_weight=1; total time=   0.3s\n",
            "[CV] END gamma=0, learning_rate=0.05, max_depth=4, min_child_weight=1; total time=   0.3s\n",
            "[CV] END gamma=0, learning_rate=0.05, max_depth=4, min_child_weight=1; total time=   0.3s\n",
            "[CV] END gamma=0, learning_rate=0.05, max_depth=4, min_child_weight=2; total time=   0.3s\n",
            "[CV] END gamma=0, learning_rate=0.05, max_depth=4, min_child_weight=2; total time=   0.3s\n",
            "[CV] END gamma=0, learning_rate=0.05, max_depth=4, min_child_weight=2; total time=   0.3s\n",
            "[CV] END gamma=0, learning_rate=0.05, max_depth=4, min_child_weight=3; total time=   0.3s\n",
            "[CV] END gamma=0, learning_rate=0.05, max_depth=4, min_child_weight=3; total time=   0.3s\n",
            "[CV] END gamma=0, learning_rate=0.05, max_depth=4, min_child_weight=3; total time=   0.3s\n",
            "[CV] END gamma=0, learning_rate=0.05, max_depth=5, min_child_weight=1; total time=   0.3s\n",
            "[CV] END gamma=0, learning_rate=0.05, max_depth=5, min_child_weight=1; total time=   0.5s\n",
            "[CV] END gamma=0, learning_rate=0.05, max_depth=5, min_child_weight=1; total time=   2.0s\n",
            "[CV] END gamma=0, learning_rate=0.05, max_depth=5, min_child_weight=2; total time=   0.8s\n",
            "[CV] END gamma=0, learning_rate=0.05, max_depth=5, min_child_weight=2; total time=   0.4s\n",
            "[CV] END gamma=0, learning_rate=0.05, max_depth=5, min_child_weight=2; total time=   0.3s\n",
            "[CV] END gamma=0, learning_rate=0.05, max_depth=5, min_child_weight=3; total time=   0.3s\n",
            "[CV] END gamma=0, learning_rate=0.05, max_depth=5, min_child_weight=3; total time=   0.3s\n",
            "[CV] END gamma=0, learning_rate=0.05, max_depth=5, min_child_weight=3; total time=   0.3s\n",
            "[CV] END gamma=0, learning_rate=0.1, max_depth=3, min_child_weight=1; total time=   0.2s\n",
            "[CV] END gamma=0, learning_rate=0.1, max_depth=3, min_child_weight=1; total time=   0.2s\n",
            "[CV] END gamma=0, learning_rate=0.1, max_depth=3, min_child_weight=1; total time=   0.2s\n",
            "[CV] END gamma=0, learning_rate=0.1, max_depth=3, min_child_weight=2; total time=   0.2s\n",
            "[CV] END gamma=0, learning_rate=0.1, max_depth=3, min_child_weight=2; total time=   0.2s\n",
            "[CV] END gamma=0, learning_rate=0.1, max_depth=3, min_child_weight=2; total time=   0.2s\n",
            "[CV] END gamma=0, learning_rate=0.1, max_depth=3, min_child_weight=3; total time=   0.2s\n",
            "[CV] END gamma=0, learning_rate=0.1, max_depth=3, min_child_weight=3; total time=   0.2s\n",
            "[CV] END gamma=0, learning_rate=0.1, max_depth=3, min_child_weight=3; total time=   0.2s\n",
            "[CV] END gamma=0, learning_rate=0.1, max_depth=4, min_child_weight=1; total time=   0.3s\n",
            "[CV] END gamma=0, learning_rate=0.1, max_depth=4, min_child_weight=1; total time=   0.3s\n",
            "[CV] END gamma=0, learning_rate=0.1, max_depth=4, min_child_weight=1; total time=   0.3s\n",
            "[CV] END gamma=0, learning_rate=0.1, max_depth=4, min_child_weight=2; total time=   0.2s\n",
            "[CV] END gamma=0, learning_rate=0.1, max_depth=4, min_child_weight=2; total time=   0.2s\n",
            "[CV] END gamma=0, learning_rate=0.1, max_depth=4, min_child_weight=2; total time=   0.3s\n",
            "[CV] END gamma=0, learning_rate=0.1, max_depth=4, min_child_weight=3; total time=   0.2s\n",
            "[CV] END gamma=0, learning_rate=0.1, max_depth=4, min_child_weight=3; total time=   0.2s\n",
            "[CV] END gamma=0, learning_rate=0.1, max_depth=4, min_child_weight=3; total time=   0.3s\n",
            "[CV] END gamma=0, learning_rate=0.1, max_depth=5, min_child_weight=1; total time=   0.3s\n",
            "[CV] END gamma=0, learning_rate=0.1, max_depth=5, min_child_weight=1; total time=   0.3s\n",
            "[CV] END gamma=0, learning_rate=0.1, max_depth=5, min_child_weight=1; total time=   0.3s\n",
            "[CV] END gamma=0, learning_rate=0.1, max_depth=5, min_child_weight=2; total time=   0.3s\n",
            "[CV] END gamma=0, learning_rate=0.1, max_depth=5, min_child_weight=2; total time=   0.3s\n",
            "[CV] END gamma=0, learning_rate=0.1, max_depth=5, min_child_weight=2; total time=   0.3s\n",
            "[CV] END gamma=0, learning_rate=0.1, max_depth=5, min_child_weight=3; total time=   0.3s\n",
            "[CV] END gamma=0, learning_rate=0.1, max_depth=5, min_child_weight=3; total time=   0.3s\n",
            "[CV] END gamma=0, learning_rate=0.1, max_depth=5, min_child_weight=3; total time=   0.3s\n",
            "[CV] END gamma=0, learning_rate=0.2, max_depth=3, min_child_weight=1; total time=   0.2s\n",
            "[CV] END gamma=0, learning_rate=0.2, max_depth=3, min_child_weight=1; total time=   0.2s\n",
            "[CV] END gamma=0, learning_rate=0.2, max_depth=3, min_child_weight=1; total time=   0.2s\n",
            "[CV] END gamma=0, learning_rate=0.2, max_depth=3, min_child_weight=2; total time=   0.2s\n",
            "[CV] END gamma=0, learning_rate=0.2, max_depth=3, min_child_weight=2; total time=   0.2s\n",
            "[CV] END gamma=0, learning_rate=0.2, max_depth=3, min_child_weight=2; total time=   0.2s\n",
            "[CV] END gamma=0, learning_rate=0.2, max_depth=3, min_child_weight=3; total time=   0.2s\n",
            "[CV] END gamma=0, learning_rate=0.2, max_depth=3, min_child_weight=3; total time=   0.4s\n",
            "[CV] END gamma=0, learning_rate=0.2, max_depth=3, min_child_weight=3; total time=   0.8s\n",
            "[CV] END gamma=0, learning_rate=0.2, max_depth=4, min_child_weight=1; total time=   1.3s\n",
            "[CV] END gamma=0, learning_rate=0.2, max_depth=4, min_child_weight=1; total time=   0.6s\n",
            "[CV] END gamma=0, learning_rate=0.2, max_depth=4, min_child_weight=1; total time=   0.5s\n",
            "[CV] END gamma=0, learning_rate=0.2, max_depth=4, min_child_weight=2; total time=   0.3s\n",
            "[CV] END gamma=0, learning_rate=0.2, max_depth=4, min_child_weight=2; total time=   0.2s\n",
            "[CV] END gamma=0, learning_rate=0.2, max_depth=4, min_child_weight=2; total time=   0.3s\n",
            "[CV] END gamma=0, learning_rate=0.2, max_depth=4, min_child_weight=3; total time=   0.2s\n",
            "[CV] END gamma=0, learning_rate=0.2, max_depth=4, min_child_weight=3; total time=   0.2s\n",
            "[CV] END gamma=0, learning_rate=0.2, max_depth=4, min_child_weight=3; total time=   0.3s\n",
            "[CV] END gamma=0, learning_rate=0.2, max_depth=5, min_child_weight=1; total time=   0.3s\n",
            "[CV] END gamma=0, learning_rate=0.2, max_depth=5, min_child_weight=1; total time=   0.3s\n",
            "[CV] END gamma=0, learning_rate=0.2, max_depth=5, min_child_weight=1; total time=   0.3s\n",
            "[CV] END gamma=0, learning_rate=0.2, max_depth=5, min_child_weight=2; total time=   0.3s\n",
            "[CV] END gamma=0, learning_rate=0.2, max_depth=5, min_child_weight=2; total time=   0.3s\n",
            "[CV] END gamma=0, learning_rate=0.2, max_depth=5, min_child_weight=2; total time=   0.3s\n",
            "[CV] END gamma=0, learning_rate=0.2, max_depth=5, min_child_weight=3; total time=   0.3s\n",
            "[CV] END gamma=0, learning_rate=0.2, max_depth=5, min_child_weight=3; total time=   0.3s\n",
            "[CV] END gamma=0, learning_rate=0.2, max_depth=5, min_child_weight=3; total time=   0.3s\n",
            "[CV] END gamma=0.1, learning_rate=0.05, max_depth=3, min_child_weight=1; total time=   0.2s\n",
            "[CV] END gamma=0.1, learning_rate=0.05, max_depth=3, min_child_weight=1; total time=   0.2s\n",
            "[CV] END gamma=0.1, learning_rate=0.05, max_depth=3, min_child_weight=1; total time=   0.2s\n",
            "[CV] END gamma=0.1, learning_rate=0.05, max_depth=3, min_child_weight=2; total time=   0.2s\n",
            "[CV] END gamma=0.1, learning_rate=0.05, max_depth=3, min_child_weight=2; total time=   0.2s\n",
            "[CV] END gamma=0.1, learning_rate=0.05, max_depth=3, min_child_weight=2; total time=   0.2s\n",
            "[CV] END gamma=0.1, learning_rate=0.05, max_depth=3, min_child_weight=3; total time=   0.2s\n",
            "[CV] END gamma=0.1, learning_rate=0.05, max_depth=3, min_child_weight=3; total time=   0.3s\n",
            "[CV] END gamma=0.1, learning_rate=0.05, max_depth=3, min_child_weight=3; total time=   0.2s\n",
            "[CV] END gamma=0.1, learning_rate=0.05, max_depth=4, min_child_weight=1; total time=   0.3s\n",
            "[CV] END gamma=0.1, learning_rate=0.05, max_depth=4, min_child_weight=1; total time=   0.3s\n",
            "[CV] END gamma=0.1, learning_rate=0.05, max_depth=4, min_child_weight=1; total time=   0.3s\n",
            "[CV] END gamma=0.1, learning_rate=0.05, max_depth=4, min_child_weight=2; total time=   0.3s\n",
            "[CV] END gamma=0.1, learning_rate=0.05, max_depth=4, min_child_weight=2; total time=   0.3s\n",
            "[CV] END gamma=0.1, learning_rate=0.05, max_depth=4, min_child_weight=2; total time=   0.3s\n",
            "[CV] END gamma=0.1, learning_rate=0.05, max_depth=4, min_child_weight=3; total time=   0.3s\n",
            "[CV] END gamma=0.1, learning_rate=0.05, max_depth=4, min_child_weight=3; total time=   0.3s\n",
            "[CV] END gamma=0.1, learning_rate=0.05, max_depth=4, min_child_weight=3; total time=   0.3s\n",
            "[CV] END gamma=0.1, learning_rate=0.05, max_depth=5, min_child_weight=1; total time=   0.3s\n",
            "[CV] END gamma=0.1, learning_rate=0.05, max_depth=5, min_child_weight=1; total time=   0.3s\n",
            "[CV] END gamma=0.1, learning_rate=0.05, max_depth=5, min_child_weight=1; total time=   0.3s\n",
            "[CV] END gamma=0.1, learning_rate=0.05, max_depth=5, min_child_weight=2; total time=   0.3s\n",
            "[CV] END gamma=0.1, learning_rate=0.05, max_depth=5, min_child_weight=2; total time=   0.5s\n",
            "[CV] END gamma=0.1, learning_rate=0.05, max_depth=5, min_child_weight=2; total time=   1.5s\n",
            "[CV] END gamma=0.1, learning_rate=0.05, max_depth=5, min_child_weight=3; total time=   0.8s\n",
            "[CV] END gamma=0.1, learning_rate=0.05, max_depth=5, min_child_weight=3; total time=   0.8s\n",
            "[CV] END gamma=0.1, learning_rate=0.05, max_depth=5, min_child_weight=3; total time=   0.3s\n",
            "[CV] END gamma=0.1, learning_rate=0.1, max_depth=3, min_child_weight=1; total time=   0.2s\n",
            "[CV] END gamma=0.1, learning_rate=0.1, max_depth=3, min_child_weight=1; total time=   0.2s\n",
            "[CV] END gamma=0.1, learning_rate=0.1, max_depth=3, min_child_weight=1; total time=   0.2s\n",
            "[CV] END gamma=0.1, learning_rate=0.1, max_depth=3, min_child_weight=2; total time=   0.2s\n",
            "[CV] END gamma=0.1, learning_rate=0.1, max_depth=3, min_child_weight=2; total time=   0.2s\n",
            "[CV] END gamma=0.1, learning_rate=0.1, max_depth=3, min_child_weight=2; total time=   0.2s\n",
            "[CV] END gamma=0.1, learning_rate=0.1, max_depth=3, min_child_weight=3; total time=   0.2s\n",
            "[CV] END gamma=0.1, learning_rate=0.1, max_depth=3, min_child_weight=3; total time=   0.2s\n",
            "[CV] END gamma=0.1, learning_rate=0.1, max_depth=3, min_child_weight=3; total time=   0.2s\n",
            "[CV] END gamma=0.1, learning_rate=0.1, max_depth=4, min_child_weight=1; total time=   0.3s\n",
            "[CV] END gamma=0.1, learning_rate=0.1, max_depth=4, min_child_weight=1; total time=   0.3s\n",
            "[CV] END gamma=0.1, learning_rate=0.1, max_depth=4, min_child_weight=1; total time=   0.2s\n",
            "[CV] END gamma=0.1, learning_rate=0.1, max_depth=4, min_child_weight=2; total time=   0.2s\n",
            "[CV] END gamma=0.1, learning_rate=0.1, max_depth=4, min_child_weight=2; total time=   0.2s\n",
            "[CV] END gamma=0.1, learning_rate=0.1, max_depth=4, min_child_weight=2; total time=   0.3s\n",
            "[CV] END gamma=0.1, learning_rate=0.1, max_depth=4, min_child_weight=3; total time=   0.2s\n",
            "[CV] END gamma=0.1, learning_rate=0.1, max_depth=4, min_child_weight=3; total time=   0.3s\n",
            "[CV] END gamma=0.1, learning_rate=0.1, max_depth=4, min_child_weight=3; total time=   0.3s\n",
            "[CV] END gamma=0.1, learning_rate=0.1, max_depth=5, min_child_weight=1; total time=   0.3s\n",
            "[CV] END gamma=0.1, learning_rate=0.1, max_depth=5, min_child_weight=1; total time=   0.3s\n",
            "[CV] END gamma=0.1, learning_rate=0.1, max_depth=5, min_child_weight=1; total time=   0.3s\n",
            "[CV] END gamma=0.1, learning_rate=0.1, max_depth=5, min_child_weight=2; total time=   0.3s\n",
            "[CV] END gamma=0.1, learning_rate=0.1, max_depth=5, min_child_weight=2; total time=   0.3s\n",
            "[CV] END gamma=0.1, learning_rate=0.1, max_depth=5, min_child_weight=2; total time=   0.3s\n",
            "[CV] END gamma=0.1, learning_rate=0.1, max_depth=5, min_child_weight=3; total time=   0.3s\n",
            "[CV] END gamma=0.1, learning_rate=0.1, max_depth=5, min_child_weight=3; total time=   0.3s\n",
            "[CV] END gamma=0.1, learning_rate=0.1, max_depth=5, min_child_weight=3; total time=   0.3s\n",
            "[CV] END gamma=0.1, learning_rate=0.2, max_depth=3, min_child_weight=1; total time=   0.2s\n",
            "[CV] END gamma=0.1, learning_rate=0.2, max_depth=3, min_child_weight=1; total time=   0.2s\n",
            "[CV] END gamma=0.1, learning_rate=0.2, max_depth=3, min_child_weight=1; total time=   0.2s\n",
            "[CV] END gamma=0.1, learning_rate=0.2, max_depth=3, min_child_weight=2; total time=   0.2s\n",
            "[CV] END gamma=0.1, learning_rate=0.2, max_depth=3, min_child_weight=2; total time=   0.2s\n",
            "[CV] END gamma=0.1, learning_rate=0.2, max_depth=3, min_child_weight=2; total time=   0.2s\n",
            "[CV] END gamma=0.1, learning_rate=0.2, max_depth=3, min_child_weight=3; total time=   0.2s\n",
            "[CV] END gamma=0.1, learning_rate=0.2, max_depth=3, min_child_weight=3; total time=   0.3s\n",
            "[CV] END gamma=0.1, learning_rate=0.2, max_depth=3, min_child_weight=3; total time=   0.2s\n",
            "[CV] END gamma=0.1, learning_rate=0.2, max_depth=4, min_child_weight=1; total time=   0.2s\n",
            "[CV] END gamma=0.1, learning_rate=0.2, max_depth=4, min_child_weight=1; total time=   0.3s\n",
            "[CV] END gamma=0.1, learning_rate=0.2, max_depth=4, min_child_weight=1; total time=   0.3s\n",
            "[CV] END gamma=0.1, learning_rate=0.2, max_depth=4, min_child_weight=2; total time=   0.9s\n",
            "[CV] END gamma=0.1, learning_rate=0.2, max_depth=4, min_child_weight=2; total time=   1.3s\n",
            "[CV] END gamma=0.1, learning_rate=0.2, max_depth=4, min_child_weight=2; total time=   0.6s\n",
            "[CV] END gamma=0.1, learning_rate=0.2, max_depth=4, min_child_weight=3; total time=   0.6s\n",
            "[CV] END gamma=0.1, learning_rate=0.2, max_depth=4, min_child_weight=3; total time=   0.3s\n",
            "[CV] END gamma=0.1, learning_rate=0.2, max_depth=4, min_child_weight=3; total time=   0.3s\n",
            "[CV] END gamma=0.1, learning_rate=0.2, max_depth=5, min_child_weight=1; total time=   0.3s\n",
            "[CV] END gamma=0.1, learning_rate=0.2, max_depth=5, min_child_weight=1; total time=   0.3s\n",
            "[CV] END gamma=0.1, learning_rate=0.2, max_depth=5, min_child_weight=1; total time=   0.3s\n",
            "[CV] END gamma=0.1, learning_rate=0.2, max_depth=5, min_child_weight=2; total time=   0.3s\n",
            "[CV] END gamma=0.1, learning_rate=0.2, max_depth=5, min_child_weight=2; total time=   0.3s\n",
            "[CV] END gamma=0.1, learning_rate=0.2, max_depth=5, min_child_weight=2; total time=   0.3s\n",
            "[CV] END gamma=0.1, learning_rate=0.2, max_depth=5, min_child_weight=3; total time=   0.3s\n",
            "[CV] END gamma=0.1, learning_rate=0.2, max_depth=5, min_child_weight=3; total time=   0.3s\n",
            "[CV] END gamma=0.1, learning_rate=0.2, max_depth=5, min_child_weight=3; total time=   0.3s\n",
            "[CV] END gamma=0.2, learning_rate=0.05, max_depth=3, min_child_weight=1; total time=   0.2s\n",
            "[CV] END gamma=0.2, learning_rate=0.05, max_depth=3, min_child_weight=1; total time=   0.2s\n",
            "[CV] END gamma=0.2, learning_rate=0.05, max_depth=3, min_child_weight=1; total time=   0.2s\n",
            "[CV] END gamma=0.2, learning_rate=0.05, max_depth=3, min_child_weight=2; total time=   0.2s\n",
            "[CV] END gamma=0.2, learning_rate=0.05, max_depth=3, min_child_weight=2; total time=   0.2s\n",
            "[CV] END gamma=0.2, learning_rate=0.05, max_depth=3, min_child_weight=2; total time=   0.2s\n",
            "[CV] END gamma=0.2, learning_rate=0.05, max_depth=3, min_child_weight=3; total time=   0.2s\n",
            "[CV] END gamma=0.2, learning_rate=0.05, max_depth=3, min_child_weight=3; total time=   0.3s\n",
            "[CV] END gamma=0.2, learning_rate=0.05, max_depth=3, min_child_weight=3; total time=   0.2s\n",
            "[CV] END gamma=0.2, learning_rate=0.05, max_depth=4, min_child_weight=1; total time=   0.3s\n",
            "[CV] END gamma=0.2, learning_rate=0.05, max_depth=4, min_child_weight=1; total time=   0.3s\n",
            "[CV] END gamma=0.2, learning_rate=0.05, max_depth=4, min_child_weight=1; total time=   0.3s\n",
            "[CV] END gamma=0.2, learning_rate=0.05, max_depth=4, min_child_weight=2; total time=   0.3s\n",
            "[CV] END gamma=0.2, learning_rate=0.05, max_depth=4, min_child_weight=2; total time=   0.3s\n",
            "[CV] END gamma=0.2, learning_rate=0.05, max_depth=4, min_child_weight=2; total time=   0.3s\n",
            "[CV] END gamma=0.2, learning_rate=0.05, max_depth=4, min_child_weight=3; total time=   0.3s\n",
            "[CV] END gamma=0.2, learning_rate=0.05, max_depth=4, min_child_weight=3; total time=   0.3s\n",
            "[CV] END gamma=0.2, learning_rate=0.05, max_depth=4, min_child_weight=3; total time=   0.3s\n",
            "[CV] END gamma=0.2, learning_rate=0.05, max_depth=5, min_child_weight=1; total time=   0.3s\n",
            "[CV] END gamma=0.2, learning_rate=0.05, max_depth=5, min_child_weight=1; total time=   0.3s\n",
            "[CV] END gamma=0.2, learning_rate=0.05, max_depth=5, min_child_weight=1; total time=   0.3s\n",
            "[CV] END gamma=0.2, learning_rate=0.05, max_depth=5, min_child_weight=2; total time=   0.3s\n",
            "[CV] END gamma=0.2, learning_rate=0.05, max_depth=5, min_child_weight=2; total time=   0.3s\n",
            "[CV] END gamma=0.2, learning_rate=0.05, max_depth=5, min_child_weight=2; total time=   0.3s\n",
            "[CV] END gamma=0.2, learning_rate=0.05, max_depth=5, min_child_weight=3; total time=   0.3s\n",
            "[CV] END gamma=0.2, learning_rate=0.05, max_depth=5, min_child_weight=3; total time=   1.6s\n",
            "[CV] END gamma=0.2, learning_rate=0.05, max_depth=5, min_child_weight=3; total time=   1.3s\n",
            "[CV] END gamma=0.2, learning_rate=0.1, max_depth=3, min_child_weight=1; total time=   0.9s\n",
            "[CV] END gamma=0.2, learning_rate=0.1, max_depth=3, min_child_weight=1; total time=   0.2s\n",
            "[CV] END gamma=0.2, learning_rate=0.1, max_depth=3, min_child_weight=1; total time=   0.5s\n",
            "[CV] END gamma=0.2, learning_rate=0.1, max_depth=3, min_child_weight=2; total time=   0.2s\n",
            "[CV] END gamma=0.2, learning_rate=0.1, max_depth=3, min_child_weight=2; total time=   0.2s\n",
            "[CV] END gamma=0.2, learning_rate=0.1, max_depth=3, min_child_weight=2; total time=   0.2s\n",
            "[CV] END gamma=0.2, learning_rate=0.1, max_depth=3, min_child_weight=3; total time=   0.2s\n",
            "[CV] END gamma=0.2, learning_rate=0.1, max_depth=3, min_child_weight=3; total time=   0.2s\n",
            "[CV] END gamma=0.2, learning_rate=0.1, max_depth=3, min_child_weight=3; total time=   0.2s\n",
            "[CV] END gamma=0.2, learning_rate=0.1, max_depth=4, min_child_weight=1; total time=   0.2s\n",
            "[CV] END gamma=0.2, learning_rate=0.1, max_depth=4, min_child_weight=1; total time=   0.3s\n",
            "[CV] END gamma=0.2, learning_rate=0.1, max_depth=4, min_child_weight=1; total time=   0.2s\n",
            "[CV] END gamma=0.2, learning_rate=0.1, max_depth=4, min_child_weight=2; total time=   0.2s\n",
            "[CV] END gamma=0.2, learning_rate=0.1, max_depth=4, min_child_weight=2; total time=   0.5s\n",
            "[CV] END gamma=0.2, learning_rate=0.1, max_depth=4, min_child_weight=2; total time=   0.3s\n",
            "[CV] END gamma=0.2, learning_rate=0.1, max_depth=4, min_child_weight=3; total time=   0.5s\n",
            "[CV] END gamma=0.2, learning_rate=0.1, max_depth=4, min_child_weight=3; total time=   0.3s\n",
            "[CV] END gamma=0.2, learning_rate=0.1, max_depth=4, min_child_weight=3; total time=   0.4s\n",
            "[CV] END gamma=0.2, learning_rate=0.1, max_depth=5, min_child_weight=1; total time=   0.4s\n",
            "[CV] END gamma=0.2, learning_rate=0.1, max_depth=5, min_child_weight=1; total time=   0.3s\n",
            "[CV] END gamma=0.2, learning_rate=0.1, max_depth=5, min_child_weight=1; total time=   0.3s\n",
            "[CV] END gamma=0.2, learning_rate=0.1, max_depth=5, min_child_weight=2; total time=   0.3s\n",
            "[CV] END gamma=0.2, learning_rate=0.1, max_depth=5, min_child_weight=2; total time=   0.3s\n",
            "[CV] END gamma=0.2, learning_rate=0.1, max_depth=5, min_child_weight=2; total time=   0.3s\n",
            "[CV] END gamma=0.2, learning_rate=0.1, max_depth=5, min_child_weight=3; total time=   0.3s\n",
            "[CV] END gamma=0.2, learning_rate=0.1, max_depth=5, min_child_weight=3; total time=   0.3s\n",
            "[CV] END gamma=0.2, learning_rate=0.1, max_depth=5, min_child_weight=3; total time=   0.3s\n",
            "[CV] END gamma=0.2, learning_rate=0.2, max_depth=3, min_child_weight=1; total time=   0.2s\n",
            "[CV] END gamma=0.2, learning_rate=0.2, max_depth=3, min_child_weight=1; total time=   0.2s\n",
            "[CV] END gamma=0.2, learning_rate=0.2, max_depth=3, min_child_weight=1; total time=   0.2s\n",
            "[CV] END gamma=0.2, learning_rate=0.2, max_depth=3, min_child_weight=2; total time=   0.2s\n",
            "[CV] END gamma=0.2, learning_rate=0.2, max_depth=3, min_child_weight=2; total time=   0.2s\n",
            "[CV] END gamma=0.2, learning_rate=0.2, max_depth=3, min_child_weight=2; total time=   0.2s\n",
            "[CV] END gamma=0.2, learning_rate=0.2, max_depth=3, min_child_weight=3; total time=   0.2s\n",
            "[CV] END gamma=0.2, learning_rate=0.2, max_depth=3, min_child_weight=3; total time=   0.2s\n",
            "[CV] END gamma=0.2, learning_rate=0.2, max_depth=3, min_child_weight=3; total time=   0.2s\n",
            "[CV] END gamma=0.2, learning_rate=0.2, max_depth=4, min_child_weight=1; total time=   0.4s\n",
            "[CV] END gamma=0.2, learning_rate=0.2, max_depth=4, min_child_weight=1; total time=   2.0s\n",
            "[CV] END gamma=0.2, learning_rate=0.2, max_depth=4, min_child_weight=1; total time=   0.7s\n",
            "[CV] END gamma=0.2, learning_rate=0.2, max_depth=4, min_child_weight=2; total time=   0.4s\n",
            "[CV] END gamma=0.2, learning_rate=0.2, max_depth=4, min_child_weight=2; total time=   0.2s\n",
            "[CV] END gamma=0.2, learning_rate=0.2, max_depth=4, min_child_weight=2; total time=   0.2s\n",
            "[CV] END gamma=0.2, learning_rate=0.2, max_depth=4, min_child_weight=3; total time=   0.3s\n",
            "[CV] END gamma=0.2, learning_rate=0.2, max_depth=4, min_child_weight=3; total time=   0.2s\n",
            "[CV] END gamma=0.2, learning_rate=0.2, max_depth=4, min_child_weight=3; total time=   0.2s\n",
            "[CV] END gamma=0.2, learning_rate=0.2, max_depth=5, min_child_weight=1; total time=   0.3s\n",
            "[CV] END gamma=0.2, learning_rate=0.2, max_depth=5, min_child_weight=1; total time=   0.3s\n",
            "[CV] END gamma=0.2, learning_rate=0.2, max_depth=5, min_child_weight=1; total time=   0.3s\n",
            "[CV] END gamma=0.2, learning_rate=0.2, max_depth=5, min_child_weight=2; total time=   0.3s\n",
            "[CV] END gamma=0.2, learning_rate=0.2, max_depth=5, min_child_weight=2; total time=   0.3s\n",
            "[CV] END gamma=0.2, learning_rate=0.2, max_depth=5, min_child_weight=2; total time=   0.3s\n",
            "[CV] END gamma=0.2, learning_rate=0.2, max_depth=5, min_child_weight=3; total time=   0.3s\n",
            "[CV] END gamma=0.2, learning_rate=0.2, max_depth=5, min_child_weight=3; total time=   0.3s\n",
            "[CV] END gamma=0.2, learning_rate=0.2, max_depth=5, min_child_weight=3; total time=   0.3s\n",
            "Best Parameters: {'gamma': 0, 'learning_rate': 0.2, 'max_depth': 5, 'min_child_weight': 3}\n",
            "RMSE on Test Set: 47227.06351966703\n"
          ]
        }
      ]
    }
  ]
}